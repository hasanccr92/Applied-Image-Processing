{
  "nbformat": 4,
  "nbformat_minor": 0,
  "metadata": {
    "colab": {
      "provenance": []
    },
    "kernelspec": {
      "name": "python3",
      "display_name": "Python 3"
    },
    "accelerator": "GPU"
  },
  "cells": [
    {
      "cell_type": "markdown",
      "metadata": {
        "id": "ChXyuxtI59IL"
      },
      "source": [
        "# Introduction to Neural Networks using Keras\n",
        "\n",
        "In this computer exercise we will follow some examples of neural networks implementations based on the use of Keras. The examples proposed in this exercise are very high level and easy to understand. Most of them are based on the original tutorials from Google that you can, alternatively, follow whenever you find some details in this exercise that are not clear. Together with the examples, we propose some questions and simple modifications of the models or examples that the student have to implement and present the results obtained or answer to the questions. These exercises pretend to give a general view of the environment and to give some solid grounds for examples that we have already analyzed in the classroom. Although Keras is a very high level language it implements many variations of well known models and has good flexibility for controlling the architecture of the network, the parameters and the training process. We encourage the student to follow the tutorial in https://www.tensorflow.org/guide/keras to obtain a quick view over the possibilities of Keras.\n",
        "\n",
        "## A Hello-World example: Handwritten character classification using linear regression with Keras\n",
        "\n",
        "In this exercise we will develop a linear classifier using Keras that will try to classify input images of handwritten digits. The example is based on MNIST database, a database that is considered as the Hello World database for Machine Learning. The database was originally created by Yan LeCun and the details of its structure are explained at http://yann.lecun.com/exdb/mnist/\n",
        "\n",
        "Essentially, the database contains 70.000 examples of handwritten digits with its labels. Each image is a 256 gray level image with a 28x28 resolution. In this experiment we will use 60.000 images as the training set and 10.000 images for the testing set.\n",
        "\n",
        "We can read the data using tensorflow and keras libraries that include this data as examples.\n",
        "\n",
        "The following section of code imports tensorflow, keras and other help libraries. If your version is below 1.9.0 you should update your tensorflow library. Then, it reads the training and testing data from MNIST libraries and finally normalizes the data to unity (usually data normalization helps to accelerate training). In this case the normalization is between [0,1] but it also could be centered between [-1, 1].\n",
        "\n"
      ]
    },
    {
      "cell_type": "code",
      "metadata": {
        "id": "nyfhQEGf5r58",
        "colab": {
          "base_uri": "https://localhost:8080/"
        },
        "outputId": "8d68ff18-3c48-4aa4-99e4-ef34e57bce41"
      },
      "source": [
        "# Defining libraries\n",
        "\n",
        "#import tensorflow.compat.v1 as tf\n",
        "#tf.disable_v2_behavior()\n",
        "\n",
        "from tensorflow.keras import layers\n",
        "from tensorflow.keras import models\n",
        "from tensorflow.keras.optimizers import SGD, Adam, RMSprop\n",
        "\n",
        "# Other helper libraries\n",
        "\n",
        "import numpy as np\n",
        "import matplotlib.pyplot as plt\n",
        "\n",
        "# Reading data from MNIST libraries\n",
        "\n",
        "from tensorflow.keras.datasets import mnist\n",
        "from tensorflow.keras.utils import to_categorical\n",
        "\n",
        "(train_images,train_labels),(test_images,test_labels) = mnist.load_data()\n",
        "\n",
        "# We also normalize the images\n",
        "\n",
        "train_images = train_images / 255.0\n",
        "test_images = test_images / 255.0"
      ],
      "execution_count": 1,
      "outputs": [
        {
          "output_type": "stream",
          "name": "stdout",
          "text": [
            "Downloading data from https://storage.googleapis.com/tensorflow/tf-keras-datasets/mnist.npz\n",
            "\u001b[1m11490434/11490434\u001b[0m \u001b[32m━━━━━━━━━━━━━━━━━━━━\u001b[0m\u001b[37m\u001b[0m \u001b[1m1s\u001b[0m 0us/step\n"
          ]
        }
      ]
    },
    {
      "cell_type": "markdown",
      "metadata": {
        "id": "WkZCRy_a-RlT"
      },
      "source": [
        "The next portion of code is used to verify the size train_images tensor which is composed by 60000 images with resolution 28x28. It also shows one of the images (index 100) in gray level scale and prints the label of that image."
      ]
    },
    {
      "cell_type": "code",
      "metadata": {
        "id": "9_37w3UF-alV",
        "colab": {
          "base_uri": "https://localhost:8080/",
          "height": 466
        },
        "outputId": "9adf085a-6fb3-4f8f-d701-0232c1307cf8"
      },
      "source": [
        "# We can verify the size of the training samples (60000)\n",
        "#and the size of the images (28 x 28)\n",
        "\n",
        "print(train_images.shape)\n",
        "\n",
        "# Once images have been load we can vverify one of the training examples\n",
        "# and its class\n",
        "\n",
        "plt.figure()\n",
        "plt.imshow(train_images[25],cmap='gray')\n",
        "\n",
        "print(train_labels[25])\n"
      ],
      "execution_count": 2,
      "outputs": [
        {
          "output_type": "stream",
          "name": "stdout",
          "text": [
            "(60000, 28, 28)\n",
            "2\n"
          ]
        },
        {
          "output_type": "display_data",
          "data": {
            "text/plain": [
              "<Figure size 640x480 with 1 Axes>"
            ],
            "image/png": "[encoded data removed]"
          },
          "metadata": {}
        }
      ]
    },
    {
      "cell_type": "markdown",
      "metadata": {
        "id": "CBPrn30B-p7D"
      },
      "source": [
        "**Question 1. As an exercise you can verify the size of the test_images and its labels. Write a portion of code printing the number of test images and its resolution and represent the test image with index 500 verifying that the label assigned it is correct.**"
      ]
    },
    {
      "cell_type": "code",
      "source": [
        "print(test_images.shape)\n",
        "#image at 500 in grayscale\n",
        "\n",
        "plt.figure()\n",
        "plt.imshow(test_images[500], cmap='gray')\n",
        "\n",
        "print(test_labels[500])"
      ],
      "metadata": {
        "colab": {
          "base_uri": "https://localhost:8080/",
          "height": 466
        },
        "id": "cuE5HGZKSNAa",
        "outputId": "7960688e-fcf0-47fb-f4df-0927c16eee6c"
      },
      "execution_count": 3,
      "outputs": [
        {
          "output_type": "stream",
          "name": "stdout",
          "text": [
            "(10000, 28, 28)\n",
            "3\n"
          ]
        },
        {
          "output_type": "display_data",
          "data": {
            "text/plain": [
              "<Figure size 640x480 with 1 Axes>"
            ],
            "image/png": "[encoded data removed]"
          },
          "metadata": {}
        }
      ]
    },
    {
      "cell_type": "markdown",
      "metadata": {
        "id": "W_RAIhqn-2gu"
      },
      "source": [
        "Finally, another usefull section of code to analyse the training database is to represent a tile of 5x5 images with their associated labels. The 25 images are sampled randomly among the training samples using the array rand_sampling. The following figure shows and example of the handwritten digits and their labels that have been selected."
      ]
    },
    {
      "cell_type": "code",
      "metadata": {
        "id": "g53TtOJH_Gh-",
        "colab": {
          "base_uri": "https://localhost:8080/",
          "height": 589
        },
        "outputId": "379460b3-6d94-4e21-a37d-536f0d74a90f"
      },
      "source": [
        "# %%\n",
        "# Representing some of the training examples with their labels\n",
        "\n",
        "class_names = ['Zero', 'One', 'Two', 'Three', 'Four',\n",
        "               'Five', 'Six', 'Seven', 'Eight', 'Nine']\n",
        "\n",
        "# Representing and array of random samples of images and labels\n",
        "# in the MNIST training database\n",
        "\n",
        "rand_sampling = np.random.randint(60000,size=25)\n",
        "\n",
        "plt.figure(figsize=(10,10))\n",
        "for i in range(25):\n",
        "    plt.subplot(5,5,i+1)\n",
        "    plt.xticks([])\n",
        "    plt.yticks([])\n",
        "    plt.grid(False)\n",
        "    plt.imshow(train_images[rand_sampling[i]], cmap=plt.cm.binary)\n",
        "    plt.xlabel(class_names[train_labels[rand_sampling[i]]])\n",
        ""
      ],
      "execution_count": null,
      "outputs": [
        {
          "output_type": "display_data",
          "data": {
            "text/plain": [
              "<Figure size 720x720 with 25 Axes>"
            ],
            "image/png": "[encoded data removed]"
          },
          "metadata": {}
        }
      ]
    },
    {
      "cell_type": "markdown",
      "metadata": {
        "id": "vz02GNVB_aDb"
      },
      "source": [
        "## Defining the model and training the network\n",
        "\n",
        "The definition of a network in Keras is very simple, the idea is to assemble different layers to build models. The most common type of model is a stack of layers. Layers can be sequentially added to the model using the add function. The following section of code defines a first layer of 64 neurons with relu output activations connected to a second layer of the same characteristics. The second layer is finally connected to 10 output neurons that produce a softmax activation. The model is defining a three layer perceptron with 64, 64 and 10 neurons in the different layers.\n",
        "\n",
        "\n"
      ]
    },
    {
      "cell_type": "markdown",
      "metadata": {
        "id": "avldmTuVppwz"
      },
      "source": [
        "```\n",
        "# DO NOT RUN THIS SECTION IS AN EXAMPLE OF NETWORK DEFINITION CODE\n",
        "# Defining & building a model of linear regression (one layer of 10 neurons)\n",
        "\n",
        "\n",
        "model = models.Sequential()\n",
        "# Adds a densely-connected layer with 64 units to the model:\n",
        "model.add(layers.Dense(64, activation='relu', input_shape=(28*28,)))\n",
        "# Adds a densely-connected layer with 128 units to the model:\n",
        "model.add(layers.Dense(64, activation='relu'))\n",
        "# Add a softmax layer with 10 output units\n",
        "model.add(layers.Dense(10,activation='softmax'))'''\n",
        "```\n",
        "\n"
      ]
    },
    {
      "cell_type": "code",
      "metadata": {
        "id": "X4tyUPIjvbXY",
        "colab": {
          "base_uri": "https://localhost:8080/"
        },
        "outputId": "d5dc5b95-71b0-491c-9f71-5b8aee941e53"
      },
      "source": [
        "# Defining & building a model of linear regression (one layer of 10 neurons)\n",
        "\n",
        "model = models.Sequential()\n",
        "\n",
        "model.add(layers.Flatten())\n",
        "model.add(layers.Dense(10,activation='softmax',input_shape=(28*28,)))"
      ],
      "execution_count": 4,
      "outputs": [
        {
          "output_type": "stream",
          "name": "stderr",
          "text": [
            "/usr/local/lib/python3.10/dist-packages/keras/src/layers/core/dense.py:87: UserWarning: Do not pass an `input_shape`/`input_dim` argument to a layer. When using Sequential models, prefer using an `Input(shape)` object as the first layer in the model instead.\n",
            "  super().__init__(activity_regularizer=activity_regularizer, **kwargs)\n"
          ]
        }
      ]
    },
    {
      "cell_type": "markdown",
      "metadata": {
        "id": "veoJuMJPvoYW"
      },
      "source": [
        "The first layer is not a real neuron layer but the definition of the inputs to the networks. The inputs are fully (Densely) connected to 10 neurons with a softmax activation function."
      ]
    },
    {
      "cell_type": "markdown",
      "metadata": {
        "id": "0Gq8JElUzdsF"
      },
      "source": [
        "## Training the Model\n",
        "\n",
        "Once the model has been designed the training process is usually divided into 2 steps. The first step is Setting-Up the training, using a method called Compile.\n",
        "\n",
        "The keras.model.compile has three important arguments:\n",
        "\n",
        "**optimizer**: Defines the training procedure that can be such as AdamOptimizer, RMSPropOptimizer, GradientDescentOptimizer.\n",
        "\n",
        "**loss**: Defines the function to minimize in the optimization process. It can be mse (mean square error), categorical_crossentropy, binary_crossentropy, etc.\n",
        "\n",
        "**metrics**: This argument is used to define the metrics that will be used to monitor the training.\n",
        "\n",
        "In our example, the model is compiled using the following code:\n"
      ]
    },
    {
      "cell_type": "code",
      "metadata": {
        "id": "MJ9z_-Yx0vIv"
      },
      "source": [
        "model.compile(optimizer='rmsprop',\n",
        "              loss='sparse_categorical_crossentropy',\n",
        "              metrics=['accuracy'])"
      ],
      "execution_count": 5,
      "outputs": []
    },
    {
      "cell_type": "markdown",
      "metadata": {
        "id": "czDct7tJ06KI"
      },
      "source": [
        "Finally, the training is performed using the keras.model.fit method that defines the training examples for the input, the labels of the outputs and the number of epochs that will be used for fitting the model. The code in our example is:"
      ]
    },
    {
      "cell_type": "code",
      "metadata": {
        "id": "a1EA_MTPzoJa",
        "colab": {
          "base_uri": "https://localhost:8080/"
        },
        "outputId": "7edf3dea-426c-4478-dd8b-4da15f48ce95"
      },
      "source": [
        "# Training the model\n",
        "\n",
        "model.fit(train_images, train_labels, epochs=5, batch_size=128)"
      ],
      "execution_count": 6,
      "outputs": [
        {
          "output_type": "stream",
          "name": "stdout",
          "text": [
            "Epoch 1/5\n",
            "\u001b[1m469/469\u001b[0m \u001b[32m━━━━━━━━━━━━━━━━━━━━\u001b[0m\u001b[37m\u001b[0m \u001b[1m3s\u001b[0m 2ms/step - accuracy: 0.7671 - loss: 0.9415\n",
            "Epoch 2/5\n",
            "\u001b[1m469/469\u001b[0m \u001b[32m━━━━━━━━━━━━━━━━━━━━\u001b[0m\u001b[37m\u001b[0m \u001b[1m1s\u001b[0m 1ms/step - accuracy: 0.9054 - loss: 0.3399\n",
            "Epoch 3/5\n",
            "\u001b[1m469/469\u001b[0m \u001b[32m━━━━━━━━━━━━━━━━━━━━\u001b[0m\u001b[37m\u001b[0m \u001b[1m2s\u001b[0m 2ms/step - accuracy: 0.9139 - loss: 0.3081\n",
            "Epoch 4/5\n",
            "\u001b[1m469/469\u001b[0m \u001b[32m━━━━━━━━━━━━━━━━━━━━\u001b[0m\u001b[37m\u001b[0m \u001b[1m1s\u001b[0m 2ms/step - accuracy: 0.9170 - loss: 0.2943\n",
            "Epoch 5/5\n",
            "\u001b[1m469/469\u001b[0m \u001b[32m━━━━━━━━━━━━━━━━━━━━\u001b[0m\u001b[37m\u001b[0m \u001b[1m1s\u001b[0m 2ms/step - accuracy: 0.9184 - loss: 0.2899\n"
          ]
        },
        {
          "output_type": "execute_result",
          "data": {
            "text/plain": [
              "<keras.src.callbacks.history.History at 0x7f528d109330>"
            ]
          },
          "metadata": {},
          "execution_count": 6
        }
      ]
    },
    {
      "cell_type": "markdown",
      "metadata": {
        "id": "T1hlamqT0-q5"
      },
      "source": [
        "Optionally, in the fitting process it is possible to define the batch_size and the validation_data that can be used to test the performance of the network with some examples not used in the training process.\n",
        "\n",
        "If we run the example code up to this line we should be able to see how the training is progressing through the different epochs. The results should be similar to the following figure, where we list the time required for executing each epoch, the loss after training and the accuracy, where we see that their improvement with extra training is collapsing in the last epochs. Be careful with these results because the loss and the accuracy are computed for the training set and the system could be overfitting the data. In the next section we will see how to analyze the performance of the network using the test set. However, lets evaluate if learning in the training set could be improved using alternative optimizers such as Gradient Descent.\n"
      ]
    },
    {
      "cell_type": "markdown",
      "metadata": {
        "id": "qWNFm8MI1NYm"
      },
      "source": [
        "**Question 2. Try to change the Optimizer Method to SGD and compare the training evolution of the 5 epochs with the AdamOptimizer. (use help to introduce the learning rate as input parameter in the SGD Optimizer). Answer the following questions**\n",
        "\n",
        "- Use different learning rates values to find your final selection. What it is your best learning rate?**\n",
        "\n",
        "Answer:\n",
        "\n",
        "SGD: best learning_rate = 0.1, with test accuracy of 0.9166.\n",
        "\n",
        "Adam: The best learning_rate = 0.001 with test accuracy 0.9236.\n",
        "\n",
        "RMSprop: The best learning_rate = 0.001 with test accuracy 0.9247.\n",
        "\n",
        "- Can you improve the results obtained with AdamOptimizer forcing a learning during more epochs? **\n",
        "\n",
        "Answer:\n",
        "\n",
        "adam_model_lr_0.001 Test accuracy: 0.9276\n",
        "adam_model_lr_0.01 Test accuracy: 0.9226\n",
        "\n",
        "Increasing the epochs from 5 to 20, we do not see a significant increase in test accuracy.\n",
        "\n",
        "- Repeat the previous 2 questions for the RMSPropOptimizer.**\n",
        "\n",
        "Answer:\n",
        "\n",
        "RMSprop: The best learning_rate = 0.001 with test accuracy 0.9295 with 20 epoch.\n",
        "\n",
        "rmsprop_model_lr_0.001 Test accuracy: 0.9295\n",
        "rmsprop_model_lr_0.01 Test accuracy: 0.9210\n",
        "\n",
        "Increasing the epochs from 5 to 20, we do not see a significant increase in test accuracyfor RMSprop either.\n",
        "\n",
        "- Which optimizer is prefered? **\n",
        "\n",
        "Answer:\n",
        "\n",
        "Based on the results obtained from the test sets, best optimizer is RMSprop."
      ]
    },
    {
      "cell_type": "code",
      "source": [
        "# Define learning rates to test\n",
        "learning_rates = {\n",
        "    \"SGD\": [0.001, 0.01, 0.1],\n",
        "    \"Adam\": [0.001, 0.01],\n",
        "    \"RMSprop\": [0.001, 0.01]\n",
        "}\n",
        "\n",
        "# Function to create and compile model\n",
        "def create_model(optimizer):\n",
        "    model = models.Sequential()\n",
        "    model.add(layers.Flatten())\n",
        "    model.add(layers.Dense(10, activation='softmax', input_shape=(28*28,)))\n",
        "    model.compile(optimizer=optimizer, loss='sparse_categorical_crossentropy', metrics=['accuracy'])\n",
        "    return model\n",
        "\n",
        "# Dictionary to store models and their histories\n",
        "models_dict = {}\n",
        "histories = {}\n",
        "\n",
        "# sgd\n",
        "for lr in learning_rates[\"SGD\"]:\n",
        "    sgd_model = create_model(SGD(learning_rate=lr))\n",
        "    model_name = f'sgd_model_lr_{lr}'\n",
        "    print(f\"Training {model_name}\")\n",
        "    histories[model_name] = sgd_model.fit(train_images, train_labels, epochs=5, batch_size=128, validation_data=(test_images, test_labels))\n",
        "    models_dict[model_name] = sgd_model\n",
        "\n",
        "# adam\n",
        "for lr in learning_rates[\"Adam\"]:\n",
        "    adam_model = create_model(Adam(learning_rate=lr))\n",
        "    model_name = f'adam_model_lr_{lr}'\n",
        "    print(f\"Training {model_name}\")\n",
        "    histories[model_name] = adam_model.fit(train_images, train_labels, epochs=5, batch_size=128, validation_data=(test_images, test_labels))\n",
        "    models_dict[model_name] = adam_model\n",
        "\n",
        "# rmsprop\n",
        "for lr in learning_rates[\"RMSprop\"]:\n",
        "    rmsprop_model = create_model(RMSprop(learning_rate=lr))\n",
        "    model_name = f'rmsprop_model_lr_{lr}'\n",
        "    print(f\"Training {model_name}\")\n",
        "    histories[model_name] = rmsprop_model.fit(train_images, train_labels, epochs=5, batch_size=128, validation_data=(test_images, test_labels))\n",
        "    models_dict[model_name] = rmsprop_model\n",
        "\n"
      ],
      "metadata": {
        "colab": {
          "base_uri": "https://localhost:8080/"
        },
        "id": "rOONfGXWS8qo",
        "outputId": "25df8f5c-7508-42b1-e41a-e0bc447d3c5c"
      },
      "execution_count": 9,
      "outputs": [
        {
          "output_type": "stream",
          "name": "stdout",
          "text": [
            "Training sgd_model_lr_0.001\n",
            "Epoch 1/5\n",
            "\u001b[1m469/469\u001b[0m \u001b[32m━━━━━━━━━━━━━━━━━━━━\u001b[0m\u001b[37m\u001b[0m \u001b[1m2s\u001b[0m 3ms/step - accuracy: 0.2060 - loss: 2.2411 - val_accuracy: 0.4561 - val_loss: 1.9112\n",
            "Epoch 2/5\n",
            "\u001b[1m469/469\u001b[0m \u001b[32m━━━━━━━━━━━━━━━━━━━━\u001b[0m\u001b[37m\u001b[0m \u001b[1m1s\u001b[0m 2ms/step - accuracy: 0.5062 - loss: 1.8381 - val_accuracy: 0.6483 - val_loss: 1.6045\n",
            "Epoch 3/5\n",
            "\u001b[1m469/469\u001b[0m \u001b[32m━━━━━━━━━━━━━━━━━━━━\u001b[0m\u001b[37m\u001b[0m \u001b[1m1s\u001b[0m 2ms/step - accuracy: 0.6658 - loss: 1.5589 - val_accuracy: 0.7283 - val_loss: 1.3873\n",
            "Epoch 4/5\n",
            "\u001b[1m469/469\u001b[0m \u001b[32m━━━━━━━━━━━━━━━━━━━━\u001b[0m\u001b[37m\u001b[0m \u001b[1m1s\u001b[0m 3ms/step - accuracy: 0.7323 - loss: 1.3646 - val_accuracy: 0.7688 - val_loss: 1.2297\n",
            "Epoch 5/5\n",
            "\u001b[1m469/469\u001b[0m \u001b[32m━━━━━━━━━━━━━━━━━━━━\u001b[0m\u001b[37m\u001b[0m \u001b[1m2s\u001b[0m 2ms/step - accuracy: 0.7672 - loss: 1.2205 - val_accuracy: 0.7900 - val_loss: 1.1121\n",
            "Training sgd_model_lr_0.01\n",
            "Epoch 1/5\n",
            "\u001b[1m469/469\u001b[0m \u001b[32m━━━━━━━━━━━━━━━━━━━━\u001b[0m\u001b[37m\u001b[0m \u001b[1m3s\u001b[0m 4ms/step - accuracy: 0.5091 - loss: 1.7050 - val_accuracy: 0.8312 - val_loss: 0.8189\n",
            "Epoch 2/5\n",
            "\u001b[1m469/469\u001b[0m \u001b[32m━━━━━━━━━━━━━━━━━━━━\u001b[0m\u001b[37m\u001b[0m \u001b[1m2s\u001b[0m 3ms/step - accuracy: 0.8308 - loss: 0.7737 - val_accuracy: 0.8615 - val_loss: 0.6099\n",
            "Epoch 3/5\n",
            "\u001b[1m469/469\u001b[0m \u001b[32m━━━━━━━━━━━━━━━━━━━━\u001b[0m\u001b[37m\u001b[0m \u001b[1m1s\u001b[0m 2ms/step - accuracy: 0.8540 - loss: 0.6126 - val_accuracy: 0.8726 - val_loss: 0.5268\n",
            "Epoch 4/5\n",
            "\u001b[1m469/469\u001b[0m \u001b[32m━━━━━━━━━━━━━━━━━━━━\u001b[0m\u001b[37m\u001b[0m \u001b[1m1s\u001b[0m 2ms/step - accuracy: 0.8668 - loss: 0.5369 - val_accuracy: 0.8802 - val_loss: 0.4805\n",
            "Epoch 5/5\n",
            "\u001b[1m469/469\u001b[0m \u001b[32m━━━━━━━━━━━━━━━━━━━━\u001b[0m\u001b[37m\u001b[0m \u001b[1m1s\u001b[0m 2ms/step - accuracy: 0.8753 - loss: 0.4894 - val_accuracy: 0.8855 - val_loss: 0.4507\n",
            "Training sgd_model_lr_0.1\n",
            "Epoch 1/5\n",
            "\u001b[1m469/469\u001b[0m \u001b[32m━━━━━━━━━━━━━━━━━━━━\u001b[0m\u001b[37m\u001b[0m \u001b[1m2s\u001b[0m 3ms/step - accuracy: 0.7847 - loss: 0.8514 - val_accuracy: 0.8979 - val_loss: 0.3823\n",
            "Epoch 2/5\n",
            "\u001b[1m469/469\u001b[0m \u001b[32m━━━━━━━━━━━━━━━━━━━━\u001b[0m\u001b[37m\u001b[0m \u001b[1m2s\u001b[0m 2ms/step - accuracy: 0.8946 - loss: 0.3816 - val_accuracy: 0.9080 - val_loss: 0.3364\n",
            "Epoch 3/5\n",
            "\u001b[1m469/469\u001b[0m \u001b[32m━━━━━━━━━━━━━━━━━━━━\u001b[0m\u001b[37m\u001b[0m \u001b[1m1s\u001b[0m 2ms/step - accuracy: 0.9044 - loss: 0.3490 - val_accuracy: 0.9118 - val_loss: 0.3172\n",
            "Epoch 4/5\n",
            "\u001b[1m469/469\u001b[0m \u001b[32m━━━━━━━━━━━━━━━━━━━━\u001b[0m\u001b[37m\u001b[0m \u001b[1m1s\u001b[0m 2ms/step - accuracy: 0.9100 - loss: 0.3236 - val_accuracy: 0.9164 - val_loss: 0.3068\n",
            "Epoch 5/5\n",
            "\u001b[1m469/469\u001b[0m \u001b[32m━━━━━━━━━━━━━━━━━━━━\u001b[0m\u001b[37m\u001b[0m \u001b[1m1s\u001b[0m 2ms/step - accuracy: 0.9117 - loss: 0.3206 - val_accuracy: 0.9166 - val_loss: 0.2993\n",
            "Training adam_model_lr_0.001\n",
            "Epoch 1/5\n",
            "\u001b[1m469/469\u001b[0m \u001b[32m━━━━━━━━━━━━━━━━━━━━\u001b[0m\u001b[37m\u001b[0m \u001b[1m3s\u001b[0m 4ms/step - accuracy: 0.7309 - loss: 1.0347 - val_accuracy: 0.9031 - val_loss: 0.3818\n",
            "Epoch 2/5\n",
            "\u001b[1m469/469\u001b[0m \u001b[32m━━━━━━━━━━━━━━━━━━━━\u001b[0m\u001b[37m\u001b[0m \u001b[1m1s\u001b[0m 2ms/step - accuracy: 0.8978 - loss: 0.3800 - val_accuracy: 0.9138 - val_loss: 0.3192\n",
            "Epoch 3/5\n",
            "\u001b[1m469/469\u001b[0m \u001b[32m━━━━━━━━━━━━━━━━━━━━\u001b[0m\u001b[37m\u001b[0m \u001b[1m1s\u001b[0m 2ms/step - accuracy: 0.9104 - loss: 0.3283 - val_accuracy: 0.9191 - val_loss: 0.2956\n",
            "Epoch 4/5\n",
            "\u001b[1m469/469\u001b[0m \u001b[32m━━━━━━━━━━━━━━━━━━━━\u001b[0m\u001b[37m\u001b[0m \u001b[1m1s\u001b[0m 2ms/step - accuracy: 0.9196 - loss: 0.2976 - val_accuracy: 0.9221 - val_loss: 0.2858\n",
            "Epoch 5/5\n",
            "\u001b[1m469/469\u001b[0m \u001b[32m━━━━━━━━━━━━━━━━━━━━\u001b[0m\u001b[37m\u001b[0m \u001b[1m1s\u001b[0m 2ms/step - accuracy: 0.9215 - loss: 0.2850 - val_accuracy: 0.9236 - val_loss: 0.2782\n",
            "Training adam_model_lr_0.01\n",
            "Epoch 1/5\n",
            "\u001b[1m469/469\u001b[0m \u001b[32m━━━━━━━━━━━━━━━━━━━━\u001b[0m\u001b[37m\u001b[0m \u001b[1m2s\u001b[0m 3ms/step - accuracy: 0.8568 - loss: 0.4991 - val_accuracy: 0.9126 - val_loss: 0.3044\n",
            "Epoch 2/5\n",
            "\u001b[1m469/469\u001b[0m \u001b[32m━━━━━━━━━━━━━━━━━━━━\u001b[0m\u001b[37m\u001b[0m \u001b[1m1s\u001b[0m 2ms/step - accuracy: 0.9192 - loss: 0.2877 - val_accuracy: 0.9233 - val_loss: 0.2872\n",
            "Epoch 3/5\n",
            "\u001b[1m469/469\u001b[0m \u001b[32m━━━━━━━━━━━━━━━━━━━━\u001b[0m\u001b[37m\u001b[0m \u001b[1m1s\u001b[0m 2ms/step - accuracy: 0.9232 - loss: 0.2787 - val_accuracy: 0.9194 - val_loss: 0.2934\n",
            "Epoch 4/5\n",
            "\u001b[1m469/469\u001b[0m \u001b[32m━━━━━━━━━━━━━━━━━━━━\u001b[0m\u001b[37m\u001b[0m \u001b[1m2s\u001b[0m 3ms/step - accuracy: 0.9216 - loss: 0.2786 - val_accuracy: 0.9235 - val_loss: 0.2882\n",
            "Epoch 5/5\n",
            "\u001b[1m469/469\u001b[0m \u001b[32m━━━━━━━━━━━━━━━━━━━━\u001b[0m\u001b[37m\u001b[0m \u001b[1m1s\u001b[0m 2ms/step - accuracy: 0.9247 - loss: 0.2717 - val_accuracy: 0.9205 - val_loss: 0.3012\n",
            "Training rmsprop_model_lr_0.001\n",
            "Epoch 1/5\n",
            "\u001b[1m469/469\u001b[0m \u001b[32m━━━━━━━━━━━━━━━━━━━━\u001b[0m\u001b[37m\u001b[0m \u001b[1m2s\u001b[0m 4ms/step - accuracy: 0.7454 - loss: 0.9776 - val_accuracy: 0.9089 - val_loss: 0.3425\n",
            "Epoch 2/5\n",
            "\u001b[1m469/469\u001b[0m \u001b[32m━━━━━━━━━━━━━━━━━━━━\u001b[0m\u001b[37m\u001b[0m \u001b[1m1s\u001b[0m 2ms/step - accuracy: 0.9036 - loss: 0.3465 - val_accuracy: 0.9164 - val_loss: 0.3001\n",
            "Epoch 3/5\n",
            "\u001b[1m469/469\u001b[0m \u001b[32m━━━━━━━━━━━━━━━━━━━━\u001b[0m\u001b[37m\u001b[0m \u001b[1m1s\u001b[0m 2ms/step - accuracy: 0.9149 - loss: 0.3087 - val_accuracy: 0.9203 - val_loss: 0.2860\n",
            "Epoch 4/5\n",
            "\u001b[1m469/469\u001b[0m \u001b[32m━━━━━━━━━━━━━━━━━━━━\u001b[0m\u001b[37m\u001b[0m \u001b[1m1s\u001b[0m 2ms/step - accuracy: 0.9186 - loss: 0.2944 - val_accuracy: 0.9224 - val_loss: 0.2805\n",
            "Epoch 5/5\n",
            "\u001b[1m469/469\u001b[0m \u001b[32m━━━━━━━━━━━━━━━━━━━━\u001b[0m\u001b[37m\u001b[0m \u001b[1m1s\u001b[0m 2ms/step - accuracy: 0.9226 - loss: 0.2797 - val_accuracy: 0.9247 - val_loss: 0.2754\n",
            "Training rmsprop_model_lr_0.01\n",
            "Epoch 1/5\n",
            "\u001b[1m469/469\u001b[0m \u001b[32m━━━━━━━━━━━━━━━━━━━━\u001b[0m\u001b[37m\u001b[0m \u001b[1m2s\u001b[0m 4ms/step - accuracy: 0.8519 - loss: 0.5118 - val_accuracy: 0.9148 - val_loss: 0.3102\n",
            "Epoch 2/5\n",
            "\u001b[1m469/469\u001b[0m \u001b[32m━━━━━━━━━━━━━━━━━━━━\u001b[0m\u001b[37m\u001b[0m \u001b[1m2s\u001b[0m 3ms/step - accuracy: 0.9127 - loss: 0.3072 - val_accuracy: 0.9166 - val_loss: 0.3001\n",
            "Epoch 3/5\n",
            "\u001b[1m469/469\u001b[0m \u001b[32m━━━━━━━━━━━━━━━━━━━━\u001b[0m\u001b[37m\u001b[0m \u001b[1m1s\u001b[0m 2ms/step - accuracy: 0.9183 - loss: 0.2957 - val_accuracy: 0.9194 - val_loss: 0.3094\n",
            "Epoch 4/5\n",
            "\u001b[1m469/469\u001b[0m \u001b[32m━━━━━━━━━━━━━━━━━━━━\u001b[0m\u001b[37m\u001b[0m \u001b[1m1s\u001b[0m 2ms/step - accuracy: 0.9238 - loss: 0.2817 - val_accuracy: 0.9184 - val_loss: 0.3019\n",
            "Epoch 5/5\n",
            "\u001b[1m469/469\u001b[0m \u001b[32m━━━━━━━━━━━━━━━━━━━━\u001b[0m\u001b[37m\u001b[0m \u001b[1m1s\u001b[0m 2ms/step - accuracy: 0.9228 - loss: 0.2871 - val_accuracy: 0.9110 - val_loss: 0.3338\n"
          ]
        }
      ]
    },
    {
      "cell_type": "markdown",
      "metadata": {
        "id": "-YD068kH2bAB"
      },
      "source": [
        "## Evaluating the results\n",
        "\n",
        "Testing the fitted model with test data may be done using the evaluate method. In this code we executed the model for all the test data samples and labels and obtain the final accuracy. If the final accuracy is close to the accuracy obtained with the training database it means that the network has generalized well and that the results are satisfactory."
      ]
    },
    {
      "cell_type": "code",
      "metadata": {
        "id": "zBCbW7VP2uFA",
        "colab": {
          "base_uri": "https://localhost:8080/"
        },
        "outputId": "6f07d939-8ced-4dad-c370-3c490ba1f424"
      },
      "source": [
        "\n",
        "# Evaluate each model on the test set and print the accuracy\n",
        "for model_name, model in models_dict.items():\n",
        "    test_loss, test_acc = model.evaluate(test_images, test_labels)\n",
        "    print(f\"{model_name} Test accuracy: {test_acc}\")"
      ],
      "execution_count": 10,
      "outputs": [
        {
          "output_type": "stream",
          "name": "stdout",
          "text": [
            "\u001b[1m313/313\u001b[0m \u001b[32m━━━━━━━━━━━━━━━━━━━━\u001b[0m\u001b[37m\u001b[0m \u001b[1m1s\u001b[0m 1ms/step - accuracy: 0.7625 - loss: 1.1767\n",
            "sgd_model_lr_0.001 Test accuracy: 0.7900000214576721\n",
            "\u001b[1m313/313\u001b[0m \u001b[32m━━━━━━━━━━━━━━━━━━━━\u001b[0m\u001b[37m\u001b[0m \u001b[1m1s\u001b[0m 1ms/step - accuracy: 0.8664 - loss: 0.5079\n",
            "sgd_model_lr_0.01 Test accuracy: 0.8855000138282776\n",
            "\u001b[1m313/313\u001b[0m \u001b[32m━━━━━━━━━━━━━━━━━━━━\u001b[0m\u001b[37m\u001b[0m \u001b[1m1s\u001b[0m 1ms/step - accuracy: 0.9054 - loss: 0.3419\n",
            "sgd_model_lr_0.1 Test accuracy: 0.9165999889373779\n",
            "\u001b[1m313/313\u001b[0m \u001b[32m━━━━━━━━━━━━━━━━━━━━\u001b[0m\u001b[37m\u001b[0m \u001b[1m1s\u001b[0m 1ms/step - accuracy: 0.9129 - loss: 0.3156\n",
            "adam_model_lr_0.001 Test accuracy: 0.9236000180244446\n",
            "\u001b[1m313/313\u001b[0m \u001b[32m━━━━━━━━━━━━━━━━━━━━\u001b[0m\u001b[37m\u001b[0m \u001b[1m1s\u001b[0m 1ms/step - accuracy: 0.9108 - loss: 0.3367\n",
            "adam_model_lr_0.01 Test accuracy: 0.9204999804496765\n",
            "\u001b[1m313/313\u001b[0m \u001b[32m━━━━━━━━━━━━━━━━━━━━\u001b[0m\u001b[37m\u001b[0m \u001b[1m1s\u001b[0m 1ms/step - accuracy: 0.9125 - loss: 0.3136\n",
            "rmsprop_model_lr_0.001 Test accuracy: 0.9247000217437744\n",
            "\u001b[1m313/313\u001b[0m \u001b[32m━━━━━━━━━━━━━━━━━━━━\u001b[0m\u001b[37m\u001b[0m \u001b[1m1s\u001b[0m 2ms/step - accuracy: 0.8990 - loss: 0.3811\n",
            "rmsprop_model_lr_0.01 Test accuracy: 0.9110000133514404\n"
          ]
        }
      ]
    },
    {
      "cell_type": "code",
      "source": [
        "#adam with more epochs----\n",
        "\n",
        "# adam\n",
        "for lr in learning_rates[\"Adam\"]:\n",
        "    adam_model = create_model(Adam(learning_rate=lr))\n",
        "    model_name = f'adam_model_lr_{lr}'\n",
        "    print(f\"Training {model_name}\")\n",
        "    histories[model_name] = adam_model.fit(train_images, train_labels, epochs=20, batch_size=128, validation_data=(test_images, test_labels))\n",
        "    models_dict[model_name] = adam_model"
      ],
      "metadata": {
        "colab": {
          "base_uri": "https://localhost:8080/"
        },
        "id": "ulN0J1rXVvL9",
        "outputId": "a785384b-64c4-4788-9b2b-f7f568ad3fed"
      },
      "execution_count": 11,
      "outputs": [
        {
          "output_type": "stream",
          "name": "stdout",
          "text": [
            "Training adam_model_lr_0.001\n",
            "Epoch 1/20\n",
            "\u001b[1m469/469\u001b[0m \u001b[32m━━━━━━━━━━━━━━━━━━━━\u001b[0m\u001b[37m\u001b[0m \u001b[1m2s\u001b[0m 3ms/step - accuracy: 0.7156 - loss: 1.0773 - val_accuracy: 0.9007 - val_loss: 0.3835\n",
            "Epoch 2/20\n",
            "\u001b[1m469/469\u001b[0m \u001b[32m━━━━━━━━━━━━━━━━━━━━\u001b[0m\u001b[37m\u001b[0m \u001b[1m2s\u001b[0m 2ms/step - accuracy: 0.8985 - loss: 0.3811 - val_accuracy: 0.9124 - val_loss: 0.3199\n",
            "Epoch 3/20\n",
            "\u001b[1m469/469\u001b[0m \u001b[32m━━━━━━━━━━━━━━━━━━━━\u001b[0m\u001b[37m\u001b[0m \u001b[1m2s\u001b[0m 2ms/step - accuracy: 0.9121 - loss: 0.3212 - val_accuracy: 0.9171 - val_loss: 0.2979\n",
            "Epoch 4/20\n",
            "\u001b[1m469/469\u001b[0m \u001b[32m━━━━━━━━━━━━━━━━━━━━\u001b[0m\u001b[37m\u001b[0m \u001b[1m1s\u001b[0m 3ms/step - accuracy: 0.9169 - loss: 0.3033 - val_accuracy: 0.9204 - val_loss: 0.2866\n",
            "Epoch 5/20\n",
            "\u001b[1m469/469\u001b[0m \u001b[32m━━━━━━━━━━━━━━━━━━━━\u001b[0m\u001b[37m\u001b[0m \u001b[1m1s\u001b[0m 2ms/step - accuracy: 0.9201 - loss: 0.2885 - val_accuracy: 0.9211 - val_loss: 0.2799\n",
            "Epoch 6/20\n",
            "\u001b[1m469/469\u001b[0m \u001b[32m━━━━━━━━━━━━━━━━━━━━\u001b[0m\u001b[37m\u001b[0m \u001b[1m1s\u001b[0m 2ms/step - accuracy: 0.9243 - loss: 0.2751 - val_accuracy: 0.9231 - val_loss: 0.2725\n",
            "Epoch 7/20\n",
            "\u001b[1m469/469\u001b[0m \u001b[32m━━━━━━━━━━━━━━━━━━━━\u001b[0m\u001b[37m\u001b[0m \u001b[1m1s\u001b[0m 2ms/step - accuracy: 0.9252 - loss: 0.2710 - val_accuracy: 0.9234 - val_loss: 0.2719\n",
            "Epoch 8/20\n",
            "\u001b[1m469/469\u001b[0m \u001b[32m━━━━━━━━━━━━━━━━━━━━\u001b[0m\u001b[37m\u001b[0m \u001b[1m1s\u001b[0m 2ms/step - accuracy: 0.9243 - loss: 0.2724 - val_accuracy: 0.9261 - val_loss: 0.2698\n",
            "Epoch 9/20\n",
            "\u001b[1m469/469\u001b[0m \u001b[32m━━━━━━━━━━━━━━━━━━━━\u001b[0m\u001b[37m\u001b[0m \u001b[1m1s\u001b[0m 2ms/step - accuracy: 0.9259 - loss: 0.2651 - val_accuracy: 0.9260 - val_loss: 0.2664\n",
            "Epoch 10/20\n",
            "\u001b[1m469/469\u001b[0m \u001b[32m━━━━━━━━━━━━━━━━━━━━\u001b[0m\u001b[37m\u001b[0m \u001b[1m1s\u001b[0m 2ms/step - accuracy: 0.9268 - loss: 0.2632 - val_accuracy: 0.9248 - val_loss: 0.2679\n",
            "Epoch 11/20\n",
            "\u001b[1m469/469\u001b[0m \u001b[32m━━━━━━━━━━━━━━━━━━━━\u001b[0m\u001b[37m\u001b[0m \u001b[1m1s\u001b[0m 2ms/step - accuracy: 0.9277 - loss: 0.2610 - val_accuracy: 0.9259 - val_loss: 0.2659\n",
            "Epoch 12/20\n",
            "\u001b[1m469/469\u001b[0m \u001b[32m━━━━━━━━━━━━━━━━━━━━\u001b[0m\u001b[37m\u001b[0m \u001b[1m1s\u001b[0m 2ms/step - accuracy: 0.9303 - loss: 0.2548 - val_accuracy: 0.9257 - val_loss: 0.2641\n",
            "Epoch 13/20\n",
            "\u001b[1m469/469\u001b[0m \u001b[32m━━━━━━━━━━━━━━━━━━━━\u001b[0m\u001b[37m\u001b[0m \u001b[1m1s\u001b[0m 2ms/step - accuracy: 0.9304 - loss: 0.2549 - val_accuracy: 0.9262 - val_loss: 0.2625\n",
            "Epoch 14/20\n",
            "\u001b[1m469/469\u001b[0m \u001b[32m━━━━━━━━━━━━━━━━━━━━\u001b[0m\u001b[37m\u001b[0m \u001b[1m1s\u001b[0m 2ms/step - accuracy: 0.9314 - loss: 0.2506 - val_accuracy: 0.9255 - val_loss: 0.2636\n",
            "Epoch 15/20\n",
            "\u001b[1m469/469\u001b[0m \u001b[32m━━━━━━━━━━━━━━━━━━━━\u001b[0m\u001b[37m\u001b[0m \u001b[1m1s\u001b[0m 2ms/step - accuracy: 0.9304 - loss: 0.2484 - val_accuracy: 0.9279 - val_loss: 0.2632\n",
            "Epoch 16/20\n",
            "\u001b[1m469/469\u001b[0m \u001b[32m━━━━━━━━━━━━━━━━━━━━\u001b[0m\u001b[37m\u001b[0m \u001b[1m1s\u001b[0m 3ms/step - accuracy: 0.9306 - loss: 0.2513 - val_accuracy: 0.9273 - val_loss: 0.2625\n",
            "Epoch 17/20\n",
            "\u001b[1m469/469\u001b[0m \u001b[32m━━━━━━━━━━━━━━━━━━━━\u001b[0m\u001b[37m\u001b[0m \u001b[1m1s\u001b[0m 2ms/step - accuracy: 0.9332 - loss: 0.2426 - val_accuracy: 0.9282 - val_loss: 0.2629\n",
            "Epoch 18/20\n",
            "\u001b[1m469/469\u001b[0m \u001b[32m━━━━━━━━━━━━━━━━━━━━\u001b[0m\u001b[37m\u001b[0m \u001b[1m1s\u001b[0m 2ms/step - accuracy: 0.9316 - loss: 0.2463 - val_accuracy: 0.9277 - val_loss: 0.2623\n",
            "Epoch 19/20\n",
            "\u001b[1m469/469\u001b[0m \u001b[32m━━━━━━━━━━━━━━━━━━━━\u001b[0m\u001b[37m\u001b[0m \u001b[1m1s\u001b[0m 2ms/step - accuracy: 0.9325 - loss: 0.2513 - val_accuracy: 0.9280 - val_loss: 0.2620\n",
            "Epoch 20/20\n",
            "\u001b[1m469/469\u001b[0m \u001b[32m━━━━━━━━━━━━━━━━━━━━\u001b[0m\u001b[37m\u001b[0m \u001b[1m1s\u001b[0m 2ms/step - accuracy: 0.9339 - loss: 0.2398 - val_accuracy: 0.9276 - val_loss: 0.2624\n",
            "Training adam_model_lr_0.01\n",
            "Epoch 1/20\n",
            "\u001b[1m469/469\u001b[0m \u001b[32m━━━━━━━━━━━━━━━━━━━━\u001b[0m\u001b[37m\u001b[0m \u001b[1m2s\u001b[0m 3ms/step - accuracy: 0.8566 - loss: 0.4896 - val_accuracy: 0.9150 - val_loss: 0.3094\n",
            "Epoch 2/20\n",
            "\u001b[1m469/469\u001b[0m \u001b[32m━━━━━━━━━━━━━━━━━━━━\u001b[0m\u001b[37m\u001b[0m \u001b[1m1s\u001b[0m 2ms/step - accuracy: 0.9179 - loss: 0.2987 - val_accuracy: 0.9203 - val_loss: 0.2871\n",
            "Epoch 3/20\n",
            "\u001b[1m469/469\u001b[0m \u001b[32m━━━━━━━━━━━━━━━━━━━━\u001b[0m\u001b[37m\u001b[0m \u001b[1m1s\u001b[0m 2ms/step - accuracy: 0.9235 - loss: 0.2788 - val_accuracy: 0.9227 - val_loss: 0.2803\n",
            "Epoch 4/20\n",
            "\u001b[1m469/469\u001b[0m \u001b[32m━━━━━━━━━━━━━━━━━━━━\u001b[0m\u001b[37m\u001b[0m \u001b[1m1s\u001b[0m 2ms/step - accuracy: 0.9236 - loss: 0.2727 - val_accuracy: 0.9245 - val_loss: 0.2822\n",
            "Epoch 5/20\n",
            "\u001b[1m469/469\u001b[0m \u001b[32m━━━━━━━━━━━━━━━━━━━━\u001b[0m\u001b[37m\u001b[0m \u001b[1m2s\u001b[0m 3ms/step - accuracy: 0.9259 - loss: 0.2680 - val_accuracy: 0.9206 - val_loss: 0.3016\n",
            "Epoch 6/20\n",
            "\u001b[1m469/469\u001b[0m \u001b[32m━━━━━━━━━━━━━━━━━━━━\u001b[0m\u001b[37m\u001b[0m \u001b[1m2s\u001b[0m 2ms/step - accuracy: 0.9253 - loss: 0.2697 - val_accuracy: 0.9163 - val_loss: 0.3161\n",
            "Epoch 7/20\n",
            "\u001b[1m469/469\u001b[0m \u001b[32m━━━━━━━━━━━━━━━━━━━━\u001b[0m\u001b[37m\u001b[0m \u001b[1m1s\u001b[0m 2ms/step - accuracy: 0.9256 - loss: 0.2613 - val_accuracy: 0.9262 - val_loss: 0.2886\n",
            "Epoch 8/20\n",
            "\u001b[1m469/469\u001b[0m \u001b[32m━━━━━━━━━━━━━━━━━━━━\u001b[0m\u001b[37m\u001b[0m \u001b[1m1s\u001b[0m 2ms/step - accuracy: 0.9253 - loss: 0.2709 - val_accuracy: 0.9232 - val_loss: 0.2997\n",
            "Epoch 9/20\n",
            "\u001b[1m469/469\u001b[0m \u001b[32m━━━━━━━━━━━━━━━━━━━━\u001b[0m\u001b[37m\u001b[0m \u001b[1m1s\u001b[0m 2ms/step - accuracy: 0.9301 - loss: 0.2583 - val_accuracy: 0.9202 - val_loss: 0.2972\n",
            "Epoch 10/20\n",
            "\u001b[1m469/469\u001b[0m \u001b[32m━━━━━━━━━━━━━━━━━━━━\u001b[0m\u001b[37m\u001b[0m \u001b[1m1s\u001b[0m 2ms/step - accuracy: 0.9256 - loss: 0.2630 - val_accuracy: 0.9199 - val_loss: 0.3064\n",
            "Epoch 11/20\n",
            "\u001b[1m469/469\u001b[0m \u001b[32m━━━━━━━━━━━━━━━━━━━━\u001b[0m\u001b[37m\u001b[0m \u001b[1m1s\u001b[0m 2ms/step - accuracy: 0.9279 - loss: 0.2593 - val_accuracy: 0.9216 - val_loss: 0.3079\n",
            "Epoch 12/20\n",
            "\u001b[1m469/469\u001b[0m \u001b[32m━━━━━━━━━━━━━━━━━━━━\u001b[0m\u001b[37m\u001b[0m \u001b[1m1s\u001b[0m 2ms/step - accuracy: 0.9272 - loss: 0.2620 - val_accuracy: 0.9177 - val_loss: 0.3198\n",
            "Epoch 13/20\n",
            "\u001b[1m469/469\u001b[0m \u001b[32m━━━━━━━━━━━━━━━━━━━━\u001b[0m\u001b[37m\u001b[0m \u001b[1m1s\u001b[0m 2ms/step - accuracy: 0.9309 - loss: 0.2531 - val_accuracy: 0.9232 - val_loss: 0.3025\n",
            "Epoch 14/20\n",
            "\u001b[1m469/469\u001b[0m \u001b[32m━━━━━━━━━━━━━━━━━━━━\u001b[0m\u001b[37m\u001b[0m \u001b[1m1s\u001b[0m 2ms/step - accuracy: 0.9294 - loss: 0.2526 - val_accuracy: 0.9231 - val_loss: 0.3082\n",
            "Epoch 15/20\n",
            "\u001b[1m469/469\u001b[0m \u001b[32m━━━━━━━━━━━━━━━━━━━━\u001b[0m\u001b[37m\u001b[0m \u001b[1m2s\u001b[0m 3ms/step - accuracy: 0.9319 - loss: 0.2455 - val_accuracy: 0.9217 - val_loss: 0.3111\n",
            "Epoch 16/20\n",
            "\u001b[1m469/469\u001b[0m \u001b[32m━━━━━━━━━━━━━━━━━━━━\u001b[0m\u001b[37m\u001b[0m \u001b[1m2s\u001b[0m 2ms/step - accuracy: 0.9298 - loss: 0.2563 - val_accuracy: 0.9211 - val_loss: 0.3096\n",
            "Epoch 17/20\n",
            "\u001b[1m469/469\u001b[0m \u001b[32m━━━━━━━━━━━━━━━━━━━━\u001b[0m\u001b[37m\u001b[0m \u001b[1m1s\u001b[0m 2ms/step - accuracy: 0.9290 - loss: 0.2560 - val_accuracy: 0.9183 - val_loss: 0.3230\n",
            "Epoch 18/20\n",
            "\u001b[1m469/469\u001b[0m \u001b[32m━━━━━━━━━━━━━━━━━━━━\u001b[0m\u001b[37m\u001b[0m \u001b[1m1s\u001b[0m 2ms/step - accuracy: 0.9299 - loss: 0.2523 - val_accuracy: 0.9246 - val_loss: 0.3077\n",
            "Epoch 19/20\n",
            "\u001b[1m469/469\u001b[0m \u001b[32m━━━━━━━━━━━━━━━━━━━━\u001b[0m\u001b[37m\u001b[0m \u001b[1m1s\u001b[0m 2ms/step - accuracy: 0.9300 - loss: 0.2458 - val_accuracy: 0.9121 - val_loss: 0.3354\n",
            "Epoch 20/20\n",
            "\u001b[1m469/469\u001b[0m \u001b[32m━━━━━━━━━━━━━━━━━━━━\u001b[0m\u001b[37m\u001b[0m \u001b[1m1s\u001b[0m 2ms/step - accuracy: 0.9287 - loss: 0.2563 - val_accuracy: 0.9226 - val_loss: 0.3136\n"
          ]
        }
      ]
    },
    {
      "cell_type": "code",
      "source": [
        "#rmsprop with more epochs----\n",
        "\n",
        "for lr in learning_rates[\"RMSprop\"]:\n",
        "    adam_model = create_model(Adam(learning_rate=lr))\n",
        "    model_name = f'rmsprop_model_lr_{lr}'\n",
        "    print(f\"Training {model_name}\")\n",
        "    histories[model_name] = adam_model.fit(train_images, train_labels, epochs=20, batch_size=128, validation_data=(test_images, test_labels))\n",
        "    models_dict[model_name] = adam_model"
      ],
      "metadata": {
        "colab": {
          "base_uri": "https://localhost:8080/"
        },
        "id": "AhVLZONMX6jL",
        "outputId": "77b9a0ae-e699-496e-811b-c99a240dc98b"
      },
      "execution_count": 13,
      "outputs": [
        {
          "output_type": "stream",
          "name": "stdout",
          "text": [
            "Training rmsprop_model_lr_0.001\n",
            "Epoch 1/20\n",
            "\u001b[1m469/469\u001b[0m \u001b[32m━━━━━━━━━━━━━━━━━━━━\u001b[0m\u001b[37m\u001b[0m \u001b[1m2s\u001b[0m 4ms/step - accuracy: 0.7314 - loss: 1.0517 - val_accuracy: 0.9027 - val_loss: 0.3823\n",
            "Epoch 2/20\n",
            "\u001b[1m469/469\u001b[0m \u001b[32m━━━━━━━━━━━━━━━━━━━━\u001b[0m\u001b[37m\u001b[0m \u001b[1m2s\u001b[0m 2ms/step - accuracy: 0.8990 - loss: 0.3794 - val_accuracy: 0.9138 - val_loss: 0.3212\n",
            "Epoch 3/20\n",
            "\u001b[1m469/469\u001b[0m \u001b[32m━━━━━━━━━━━━━━━━━━━━\u001b[0m\u001b[37m\u001b[0m \u001b[1m1s\u001b[0m 2ms/step - accuracy: 0.9100 - loss: 0.3281 - val_accuracy: 0.9174 - val_loss: 0.2980\n",
            "Epoch 4/20\n",
            "\u001b[1m469/469\u001b[0m \u001b[32m━━━━━━━━━━━━━━━━━━━━\u001b[0m\u001b[37m\u001b[0m \u001b[1m1s\u001b[0m 2ms/step - accuracy: 0.9166 - loss: 0.3021 - val_accuracy: 0.9207 - val_loss: 0.2857\n",
            "Epoch 5/20\n",
            "\u001b[1m469/469\u001b[0m \u001b[32m━━━━━━━━━━━━━━━━━━━━\u001b[0m\u001b[37m\u001b[0m \u001b[1m1s\u001b[0m 2ms/step - accuracy: 0.9189 - loss: 0.2921 - val_accuracy: 0.9227 - val_loss: 0.2794\n",
            "Epoch 6/20\n",
            "\u001b[1m469/469\u001b[0m \u001b[32m━━━━━━━━━━━━━━━━━━━━\u001b[0m\u001b[37m\u001b[0m \u001b[1m2s\u001b[0m 3ms/step - accuracy: 0.9208 - loss: 0.2838 - val_accuracy: 0.9240 - val_loss: 0.2751\n",
            "Epoch 7/20\n",
            "\u001b[1m469/469\u001b[0m \u001b[32m━━━━━━━━━━━━━━━━━━━━\u001b[0m\u001b[37m\u001b[0m \u001b[1m1s\u001b[0m 3ms/step - accuracy: 0.9223 - loss: 0.2774 - val_accuracy: 0.9238 - val_loss: 0.2719\n",
            "Epoch 8/20\n",
            "\u001b[1m469/469\u001b[0m \u001b[32m━━━━━━━━━━━━━━━━━━━━\u001b[0m\u001b[37m\u001b[0m \u001b[1m1s\u001b[0m 2ms/step - accuracy: 0.9250 - loss: 0.2702 - val_accuracy: 0.9254 - val_loss: 0.2700\n",
            "Epoch 9/20\n",
            "\u001b[1m469/469\u001b[0m \u001b[32m━━━━━━━━━━━━━━━━━━━━\u001b[0m\u001b[37m\u001b[0m \u001b[1m1s\u001b[0m 2ms/step - accuracy: 0.9252 - loss: 0.2649 - val_accuracy: 0.9261 - val_loss: 0.2679\n",
            "Epoch 10/20\n",
            "\u001b[1m469/469\u001b[0m \u001b[32m━━━━━━━━━━━━━━━━━━━━\u001b[0m\u001b[37m\u001b[0m \u001b[1m1s\u001b[0m 2ms/step - accuracy: 0.9245 - loss: 0.2668 - val_accuracy: 0.9263 - val_loss: 0.2661\n",
            "Epoch 11/20\n",
            "\u001b[1m469/469\u001b[0m \u001b[32m━━━━━━━━━━━━━━━━━━━━\u001b[0m\u001b[37m\u001b[0m \u001b[1m1s\u001b[0m 2ms/step - accuracy: 0.9275 - loss: 0.2596 - val_accuracy: 0.9272 - val_loss: 0.2649\n",
            "Epoch 12/20\n",
            "\u001b[1m469/469\u001b[0m \u001b[32m━━━━━━━━━━━━━━━━━━━━\u001b[0m\u001b[37m\u001b[0m \u001b[1m1s\u001b[0m 2ms/step - accuracy: 0.9281 - loss: 0.2565 - val_accuracy: 0.9269 - val_loss: 0.2644\n",
            "Epoch 13/20\n",
            "\u001b[1m469/469\u001b[0m \u001b[32m━━━━━━━━━━━━━━━━━━━━\u001b[0m\u001b[37m\u001b[0m \u001b[1m1s\u001b[0m 2ms/step - accuracy: 0.9294 - loss: 0.2507 - val_accuracy: 0.9269 - val_loss: 0.2643\n",
            "Epoch 14/20\n",
            "\u001b[1m469/469\u001b[0m \u001b[32m━━━━━━━━━━━━━━━━━━━━\u001b[0m\u001b[37m\u001b[0m \u001b[1m1s\u001b[0m 2ms/step - accuracy: 0.9293 - loss: 0.2565 - val_accuracy: 0.9268 - val_loss: 0.2646\n",
            "Epoch 15/20\n",
            "\u001b[1m469/469\u001b[0m \u001b[32m━━━━━━━━━━━━━━━━━━━━\u001b[0m\u001b[37m\u001b[0m \u001b[1m1s\u001b[0m 2ms/step - accuracy: 0.9295 - loss: 0.2503 - val_accuracy: 0.9284 - val_loss: 0.2620\n",
            "Epoch 16/20\n",
            "\u001b[1m469/469\u001b[0m \u001b[32m━━━━━━━━━━━━━━━━━━━━\u001b[0m\u001b[37m\u001b[0m \u001b[1m1s\u001b[0m 2ms/step - accuracy: 0.9314 - loss: 0.2501 - val_accuracy: 0.9277 - val_loss: 0.2634\n",
            "Epoch 17/20\n",
            "\u001b[1m469/469\u001b[0m \u001b[32m━━━━━━━━━━━━━━━━━━━━\u001b[0m\u001b[37m\u001b[0m \u001b[1m1s\u001b[0m 2ms/step - accuracy: 0.9317 - loss: 0.2521 - val_accuracy: 0.9283 - val_loss: 0.2617\n",
            "Epoch 18/20\n",
            "\u001b[1m469/469\u001b[0m \u001b[32m━━━━━━━━━━━━━━━━━━━━\u001b[0m\u001b[37m\u001b[0m \u001b[1m1s\u001b[0m 2ms/step - accuracy: 0.9290 - loss: 0.2529 - val_accuracy: 0.9275 - val_loss: 0.2634\n",
            "Epoch 19/20\n",
            "\u001b[1m469/469\u001b[0m \u001b[32m━━━━━━━━━━━━━━━━━━━━\u001b[0m\u001b[37m\u001b[0m \u001b[1m1s\u001b[0m 3ms/step - accuracy: 0.9324 - loss: 0.2440 - val_accuracy: 0.9279 - val_loss: 0.2619\n",
            "Epoch 20/20\n",
            "\u001b[1m469/469\u001b[0m \u001b[32m━━━━━━━━━━━━━━━━━━━━\u001b[0m\u001b[37m\u001b[0m \u001b[1m1s\u001b[0m 3ms/step - accuracy: 0.9319 - loss: 0.2474 - val_accuracy: 0.9295 - val_loss: 0.2622\n",
            "Training rmsprop_model_lr_0.01\n",
            "Epoch 1/20\n",
            "\u001b[1m469/469\u001b[0m \u001b[32m━━━━━━━━━━━━━━━━━━━━\u001b[0m\u001b[37m\u001b[0m \u001b[1m2s\u001b[0m 3ms/step - accuracy: 0.8449 - loss: 0.5141 - val_accuracy: 0.9180 - val_loss: 0.2962\n",
            "Epoch 2/20\n",
            "\u001b[1m469/469\u001b[0m \u001b[32m━━━━━━━━━━━━━━━━━━━━\u001b[0m\u001b[37m\u001b[0m \u001b[1m1s\u001b[0m 2ms/step - accuracy: 0.9193 - loss: 0.2901 - val_accuracy: 0.9142 - val_loss: 0.2949\n",
            "Epoch 3/20\n",
            "\u001b[1m469/469\u001b[0m \u001b[32m━━━━━━━━━━━━━━━━━━━━\u001b[0m\u001b[37m\u001b[0m \u001b[1m1s\u001b[0m 2ms/step - accuracy: 0.9215 - loss: 0.2764 - val_accuracy: 0.9188 - val_loss: 0.2990\n",
            "Epoch 4/20\n",
            "\u001b[1m469/469\u001b[0m \u001b[32m━━━━━━━━━━━━━━━━━━━━\u001b[0m\u001b[37m\u001b[0m \u001b[1m1s\u001b[0m 2ms/step - accuracy: 0.9237 - loss: 0.2750 - val_accuracy: 0.9183 - val_loss: 0.2987\n",
            "Epoch 5/20\n",
            "\u001b[1m469/469\u001b[0m \u001b[32m━━━━━━━━━━━━━━━━━━━━\u001b[0m\u001b[37m\u001b[0m \u001b[1m1s\u001b[0m 2ms/step - accuracy: 0.9271 - loss: 0.2647 - val_accuracy: 0.9210 - val_loss: 0.2910\n",
            "Epoch 6/20\n",
            "\u001b[1m469/469\u001b[0m \u001b[32m━━━━━━━━━━━━━━━━━━━━\u001b[0m\u001b[37m\u001b[0m \u001b[1m1s\u001b[0m 2ms/step - accuracy: 0.9256 - loss: 0.2641 - val_accuracy: 0.9172 - val_loss: 0.3114\n",
            "Epoch 7/20\n",
            "\u001b[1m469/469\u001b[0m \u001b[32m━━━━━━━━━━━━━━━━━━━━\u001b[0m\u001b[37m\u001b[0m \u001b[1m1s\u001b[0m 2ms/step - accuracy: 0.9263 - loss: 0.2644 - val_accuracy: 0.9230 - val_loss: 0.2905\n",
            "Epoch 8/20\n",
            "\u001b[1m469/469\u001b[0m \u001b[32m━━━━━━━━━━━━━━━━━━━━\u001b[0m\u001b[37m\u001b[0m \u001b[1m2s\u001b[0m 2ms/step - accuracy: 0.9276 - loss: 0.2613 - val_accuracy: 0.9232 - val_loss: 0.2938\n",
            "Epoch 9/20\n",
            "\u001b[1m469/469\u001b[0m \u001b[32m━━━━━━━━━━━━━━━━━━━━\u001b[0m\u001b[37m\u001b[0m \u001b[1m2s\u001b[0m 3ms/step - accuracy: 0.9261 - loss: 0.2584 - val_accuracy: 0.9218 - val_loss: 0.3029\n",
            "Epoch 10/20\n",
            "\u001b[1m469/469\u001b[0m \u001b[32m━━━━━━━━━━━━━━━━━━━━\u001b[0m\u001b[37m\u001b[0m \u001b[1m1s\u001b[0m 2ms/step - accuracy: 0.9307 - loss: 0.2544 - val_accuracy: 0.9177 - val_loss: 0.3175\n",
            "Epoch 11/20\n",
            "\u001b[1m469/469\u001b[0m \u001b[32m━━━━━━━━━━━━━━━━━━━━\u001b[0m\u001b[37m\u001b[0m \u001b[1m1s\u001b[0m 2ms/step - accuracy: 0.9292 - loss: 0.2550 - val_accuracy: 0.9183 - val_loss: 0.3201\n",
            "Epoch 12/20\n",
            "\u001b[1m469/469\u001b[0m \u001b[32m━━━━━━━━━━━━━━━━━━━━\u001b[0m\u001b[37m\u001b[0m \u001b[1m1s\u001b[0m 2ms/step - accuracy: 0.9281 - loss: 0.2606 - val_accuracy: 0.9212 - val_loss: 0.3098\n",
            "Epoch 13/20\n",
            "\u001b[1m469/469\u001b[0m \u001b[32m━━━━━━━━━━━━━━━━━━━━\u001b[0m\u001b[37m\u001b[0m \u001b[1m1s\u001b[0m 2ms/step - accuracy: 0.9271 - loss: 0.2582 - val_accuracy: 0.9202 - val_loss: 0.3074\n",
            "Epoch 14/20\n",
            "\u001b[1m469/469\u001b[0m \u001b[32m━━━━━━━━━━━━━━━━━━━━\u001b[0m\u001b[37m\u001b[0m \u001b[1m1s\u001b[0m 2ms/step - accuracy: 0.9274 - loss: 0.2605 - val_accuracy: 0.9220 - val_loss: 0.3162\n",
            "Epoch 15/20\n",
            "\u001b[1m469/469\u001b[0m \u001b[32m━━━━━━━━━━━━━━━━━━━━\u001b[0m\u001b[37m\u001b[0m \u001b[1m1s\u001b[0m 2ms/step - accuracy: 0.9277 - loss: 0.2588 - val_accuracy: 0.9216 - val_loss: 0.3120\n",
            "Epoch 16/20\n",
            "\u001b[1m469/469\u001b[0m \u001b[32m━━━━━━━━━━━━━━━━━━━━\u001b[0m\u001b[37m\u001b[0m \u001b[1m1s\u001b[0m 2ms/step - accuracy: 0.9275 - loss: 0.2580 - val_accuracy: 0.9111 - val_loss: 0.3434\n",
            "Epoch 17/20\n",
            "\u001b[1m469/469\u001b[0m \u001b[32m━━━━━━━━━━━━━━━━━━━━\u001b[0m\u001b[37m\u001b[0m \u001b[1m1s\u001b[0m 2ms/step - accuracy: 0.9294 - loss: 0.2534 - val_accuracy: 0.9237 - val_loss: 0.3062\n",
            "Epoch 18/20\n",
            "\u001b[1m469/469\u001b[0m \u001b[32m━━━━━━━━━━━━━━━━━━━━\u001b[0m\u001b[37m\u001b[0m \u001b[1m1s\u001b[0m 2ms/step - accuracy: 0.9311 - loss: 0.2470 - val_accuracy: 0.9221 - val_loss: 0.3111\n",
            "Epoch 19/20\n",
            "\u001b[1m469/469\u001b[0m \u001b[32m━━━━━━━━━━━━━━━━━━━━\u001b[0m\u001b[37m\u001b[0m \u001b[1m1s\u001b[0m 3ms/step - accuracy: 0.9293 - loss: 0.2517 - val_accuracy: 0.9160 - val_loss: 0.3293\n",
            "Epoch 20/20\n",
            "\u001b[1m469/469\u001b[0m \u001b[32m━━━━━━━━━━━━━━━━━━━━\u001b[0m\u001b[37m\u001b[0m \u001b[1m2s\u001b[0m 2ms/step - accuracy: 0.9300 - loss: 0.2505 - val_accuracy: 0.9210 - val_loss: 0.3188\n"
          ]
        }
      ]
    },
    {
      "cell_type": "code",
      "source": [
        "# Evaluate each model on the test set and print the accuracy\n",
        "for model_name, model in models_dict.items():\n",
        "    test_loss, test_acc = model.evaluate(test_images, test_labels)\n",
        "    print(f\"{model_name} Test accuracy: {test_acc}\")"
      ],
      "metadata": {
        "colab": {
          "base_uri": "https://localhost:8080/"
        },
        "id": "30g1xj8YW28o",
        "outputId": "17171179-3f41-464a-9336-f1ed8b34474f"
      },
      "execution_count": 14,
      "outputs": [
        {
          "output_type": "stream",
          "name": "stdout",
          "text": [
            "\u001b[1m313/313\u001b[0m \u001b[32m━━━━━━━━━━━━━━━━━━━━\u001b[0m\u001b[37m\u001b[0m \u001b[1m0s\u001b[0m 1ms/step - accuracy: 0.7625 - loss: 1.1767\n",
            "sgd_model_lr_0.001 Test accuracy: 0.7900000214576721\n",
            "\u001b[1m313/313\u001b[0m \u001b[32m━━━━━━━━━━━━━━━━━━━━\u001b[0m\u001b[37m\u001b[0m \u001b[1m1s\u001b[0m 2ms/step - accuracy: 0.8664 - loss: 0.5079\n",
            "sgd_model_lr_0.01 Test accuracy: 0.8855000138282776\n",
            "\u001b[1m313/313\u001b[0m \u001b[32m━━━━━━━━━━━━━━━━━━━━\u001b[0m\u001b[37m\u001b[0m \u001b[1m1s\u001b[0m 2ms/step - accuracy: 0.9054 - loss: 0.3419\n",
            "sgd_model_lr_0.1 Test accuracy: 0.9165999889373779\n",
            "\u001b[1m313/313\u001b[0m \u001b[32m━━━━━━━━━━━━━━━━━━━━\u001b[0m\u001b[37m\u001b[0m \u001b[1m0s\u001b[0m 1ms/step - accuracy: 0.9169 - loss: 0.2979\n",
            "adam_model_lr_0.001 Test accuracy: 0.9276000261306763\n",
            "\u001b[1m313/313\u001b[0m \u001b[32m━━━━━━━━━━━━━━━━━━━━\u001b[0m\u001b[37m\u001b[0m \u001b[1m0s\u001b[0m 1ms/step - accuracy: 0.9124 - loss: 0.3512\n",
            "adam_model_lr_0.01 Test accuracy: 0.9225999712944031\n",
            "\u001b[1m313/313\u001b[0m \u001b[32m━━━━━━━━━━━━━━━━━━━━\u001b[0m\u001b[37m\u001b[0m \u001b[1m1s\u001b[0m 1ms/step - accuracy: 0.9186 - loss: 0.2968\n",
            "rmsprop_model_lr_0.001 Test accuracy: 0.9294999837875366\n",
            "\u001b[1m313/313\u001b[0m \u001b[32m━━━━━━━━━━━━━━━━━━━━\u001b[0m\u001b[37m\u001b[0m \u001b[1m1s\u001b[0m 1ms/step - accuracy: 0.9126 - loss: 0.3572\n",
            "rmsprop_model_lr_0.01 Test accuracy: 0.9210000038146973\n"
          ]
        }
      ]
    },
    {
      "cell_type": "markdown",
      "metadata": {
        "id": "svzHjg3921fp"
      },
      "source": [
        "**Question 3.**\n",
        "\n",
        "- What is the test accuracy in the model trained with AdamOptimizer compared with the train accuracy?\n",
        "\n",
        "Answer:\n",
        "\n",
        "Training accuracy- learning rate 0.001 ----> accuracy: 0.9215\n",
        "\n",
        "Test accuracy- learning rate 0.001 ----> accuracy: 0.9236\n",
        "\n",
        "Training accuracy-learning rate 0.01 ----> accuracy 0.9247\n",
        "\n",
        "\n",
        "Test accuracy- learning rate 0.01 ----> accuracy: 0.9205\n",
        "\n",
        "- Do you think that the network has generalized well?\n",
        "\n",
        "Answer:\n",
        "\n",
        "Yes, the training and testing accuracies are consistent, so the model has generalized well.\n",
        "\n",
        "- What does happen if instead of AdamOptimizer we use the SGD?\n",
        "\n",
        "Answer:\n",
        "\n",
        "The same phenomena is seen for SGD too.\n",
        "\n",
        "Training sgd_model_lr_0.001 accuracy: 0.7672\n",
        "\n",
        "sgd_model_lr_0.001 Test accuracy: 0.7900\n",
        "\n",
        "Training sgd_model_lr_0.01 accuracy: 0.8753\n",
        "\n",
        "sgd_model_lr_0.01 Test accuracy: 0.8855\n",
        "\n",
        "\n",
        "Training sgd_model_lr_0.1 accuracy: 0.9117\n",
        "\n",
        "sgd_model_lr_0.1 Test accuracy: 0.9166\n"
      ]
    },
    {
      "cell_type": "markdown",
      "metadata": {
        "id": "y6W7f6sm3Fb1"
      },
      "source": [
        "## Making Predictions\n",
        "\n",
        "Predictions are performed applying the predict method to the set of images to be tested"
      ]
    },
    {
      "cell_type": "code",
      "metadata": {
        "id": "6jLlPSnK3L2N",
        "colab": {
          "base_uri": "https://localhost:8080/"
        },
        "outputId": "72b0e0fa-0edf-45fe-bc20-c1bb54b5cae1"
      },
      "source": [
        "# Making Predictions\n",
        "\n",
        "predictions = model.predict(test_images)"
      ],
      "execution_count": 15,
      "outputs": [
        {
          "output_type": "stream",
          "name": "stdout",
          "text": [
            "\u001b[1m313/313\u001b[0m \u001b[32m━━━━━━━━━━━━━━━━━━━━\u001b[0m\u001b[37m\u001b[0m \u001b[1m1s\u001b[0m 1ms/step\n"
          ]
        }
      ]
    },
    {
      "cell_type": "markdown",
      "metadata": {
        "id": "jALEUcML3QTt"
      },
      "source": [
        "The result predictions is a matrix with 1000 rows and 10 columns. Each row represent one of the 1000 testing images and contains the 10 values representing the probability of each character. For example, if we examine the prediction for test sample 25 we obtain the following vector prediction."
      ]
    },
    {
      "cell_type": "code",
      "metadata": {
        "id": "DG6ApBJT3aZW",
        "colab": {
          "base_uri": "https://localhost:8080/"
        },
        "outputId": "1227b23e-200f-4cbc-8b9f-281c333055c6"
      },
      "source": [
        "print(predictions[25])"
      ],
      "execution_count": 16,
      "outputs": [
        {
          "output_type": "stream",
          "name": "stdout",
          "text": [
            "[9.9999809e-01 2.5032064e-33 1.3341927e-11 3.1120613e-17 1.0694602e-11\n",
            " 9.1211227e-10 1.8998880e-06 6.6312965e-18 1.1482308e-10 5.1658460e-15]\n"
          ]
        }
      ]
    },
    {
      "cell_type": "markdown",
      "metadata": {
        "id": "M4Wz8Qfq3qjT"
      },
      "source": [
        "## Viewing Predictions\n",
        "\n",
        "The vector represents the probability of the different digits. In this example, digit zero has a probability of 0.998 while the other digits have very low probabilities. Therefore, the final predicted digit would be, in this example, digit zero. We can verify that image 25 in the test set is a ‘zero’ just printing the label of this image. See the instructions to inspect predictions vector in the #Viewing predictions cell defined in the source code.\n",
        "\n",
        "Another option to visually evaluate the predictions of our system is representing the character together wit a graphic of the probabilities. The following section of code defines 2 basic plotting functions that are used to produce the results depicted in the Figure.\n"
      ]
    },
    {
      "cell_type": "code",
      "metadata": {
        "id": "07ftGv8P3xhN",
        "colab": {
          "base_uri": "https://localhost:8080/",
          "height": 203
        },
        "outputId": "773e9ad4-f6bf-423b-d2de-664913f1df54"
      },
      "source": [
        "# %% Graphical represntation of a single prediction\n",
        "\n",
        "# Basic plotting functions definitions\n",
        "\n",
        "def plot_image(i, predictions_array, true_label, img):\n",
        "  predictions_array, true_label, img = predictions_array[i], true_label[i], img[i]\n",
        "  plt.grid(False)\n",
        "  plt.xticks([])\n",
        "  plt.yticks([])\n",
        "\n",
        "  plt.imshow(img, cmap=plt.cm.binary)\n",
        "\n",
        "  predicted_label = np.argmax(predictions_array)\n",
        "  if predicted_label == true_label:\n",
        "    color = 'blue'\n",
        "  else:\n",
        "    color = 'red'\n",
        "\n",
        "  plt.xlabel(\"{} {:2.0f}% ({})\".format(class_names[predicted_label],\n",
        "                                100*np.max(predictions_array),\n",
        "                                class_names[true_label]),\n",
        "                                color=color)\n",
        "\n",
        "def plot_value_array(i, predictions_array, true_label):\n",
        "  predictions_array, true_label = predictions_array[i], true_label[i]\n",
        "  plt.grid(False)\n",
        "  plt.xticks([])\n",
        "  plt.yticks([])\n",
        "  thisplot = plt.bar(range(10), predictions_array, color=\"#777777\")\n",
        "  plt.ylim([0, 1])\n",
        "  predicted_label = np.argmax(predictions_array)\n",
        "\n",
        "  thisplot[predicted_label].set_color('red')\n",
        "  thisplot[true_label].set_color('blue')\n",
        "\n",
        "# %% Plotting\n",
        "# Change variable -i- to select different indices in the test dataset\n",
        "i = 87\n",
        "plt.figure(figsize=(6,3))\n",
        "plt.subplot(1,2,1)\n",
        "plot_image(i, predictions, test_labels, test_images)\n",
        "plt.subplot(1,2,2)\n",
        "plot_value_array(i, predictions,  test_labels)\n",
        "\n"
      ],
      "execution_count": null,
      "outputs": [
        {
          "output_type": "display_data",
          "data": {
            "text/plain": [
              "<Figure size 432x216 with 2 Axes>"
            ],
            "image/png": "[encoded data removed]"
          },
          "metadata": {}
        }
      ]
    },
    {
      "cell_type": "markdown",
      "metadata": {
        "id": "kwY-hEWG3_cY"
      },
      "source": [
        "The final code cell permits to represent and array of random testing samples to evaluate the performance of the algorithm with different types of input samples. The code rearranges the previous graphic in a subplot matrix where the user can define the number of rows and columns."
      ]
    },
    {
      "cell_type": "code",
      "metadata": {
        "id": "MKFhwoO04inQ",
        "colab": {
          "base_uri": "https://localhost:8080/",
          "height": 480
        },
        "outputId": "70533eef-997f-4e92-ed8c-9948328e538d"
      },
      "source": [
        "# %% Plotting various samples\n",
        "\n",
        "# Plot the first X test images, their predicted label, and the true label\n",
        "# Color correct predictions in blue, incorrect predictions in red\n",
        "\n",
        "rnd_testing = np.random.randint(10000,size=12)\n",
        "\n",
        "num_rows = 4\n",
        "num_cols = 3\n",
        "num_images = num_rows*num_cols\n",
        "plt.figure(figsize=(2*2*num_cols, 2*num_rows))\n",
        "for i in range(num_images):\n",
        "  plt.subplot(num_rows, 2*num_cols, 2*i+1)\n",
        "  plot_image(rnd_testing[i], predictions, test_labels, test_images)\n",
        "  plt.subplot(num_rows, 2*num_cols, 2*i+2)\n",
        "  plot_value_array(rnd_testing[i], predictions, test_labels)\n",
        "\n",
        "\n"
      ],
      "execution_count": null,
      "outputs": [
        {
          "output_type": "display_data",
          "data": {
            "text/plain": [
              "<Figure size 864x576 with 24 Axes>"
            ],
            "image/png": "[encoded data removed]"
          },
          "metadata": {}
        }
      ]
    },
    {
      "cell_type": "markdown",
      "metadata": {
        "id": "hw1IDRre45ps"
      },
      "source": [
        "**Question 4.**\n",
        "\n",
        "Change the model of your network to a 3 layer fully connected network. The first layer should have 128 neurons, the second layer 64 and the third layer 10 neurons. The last layer uses a softmax activation function but the 1st and 2nd layer can be ‘relu’ or ‘sigmoid’ (2 different models).\n",
        "\n",
        "Define the models of the network and copy this part of the code below:\n",
        "\n",
        "Train both models during 10 epochs and fill-in the following table\n",
        "\n",
        "\n",
        "Method | Accuracy Training Dataset | Accuracy Testing Set\n",
        "--- | --- | ---\n",
        "Relu + Adam | 0.9935 | 0.9764\n",
        "Relu + Gradient Descent | 0.9308 | 0.9331\n",
        "Sigmoid + Adam | 0.9854 | 0.9741\n",
        "Sigmoid + Gradient Descent | 0.7496 | 0.7696\n",
        "\n",
        "\n"
      ]
    },
    {
      "cell_type": "code",
      "source": [
        "from tensorflow.keras import models, layers\n",
        "from tensorflow.keras.optimizers import Adam, SGD\n",
        "\n",
        "def create_model(activation, optimizer):\n",
        "    model = models.Sequential()\n",
        "    model.add(layers.Flatten(input_shape=(28, 28)))\n",
        "    model.add(layers.Dense(128, activation=activation))\n",
        "    model.add(layers.Dense(64, activation=activation))\n",
        "    model.add(layers.Dense(10, activation='softmax'))\n",
        "    model.compile(optimizer=optimizer, loss='sparse_categorical_crossentropy', metrics=['accuracy'])\n",
        "    return model\n",
        "\n",
        "\n",
        "# Relu + Adam\n",
        "relu_adam_model = create_model('relu', Adam())\n",
        "history_relu_adam = relu_adam_model.fit(train_images, train_labels, epochs=10, batch_size=128, validation_data=(test_images, test_labels))\n",
        "train_acc_relu_adam = history_relu_adam.history['accuracy'][-1]\n",
        "test_loss, test_acc_relu_adam = relu_adam_model.evaluate(test_images, test_labels)\n",
        "\n",
        "# Relu + SGD\n",
        "relu_sgd_model = create_model('relu', SGD())\n",
        "history_relu_sgd = relu_sgd_model.fit(train_images, train_labels, epochs=10, batch_size=128, validation_data=(test_images, test_labels))\n",
        "train_acc_relu_sgd = history_relu_sgd.history['accuracy'][-1]\n",
        "test_loss, test_acc_relu_sgd = relu_sgd_model.evaluate(test_images, test_labels)\n",
        "\n",
        "# Sigmoid + Adam\n",
        "sigmoid_adam_model = create_model('sigmoid', Adam())\n",
        "history_sigmoid_adam = sigmoid_adam_model.fit(train_images, train_labels, epochs=10, batch_size=128, validation_data=(test_images, test_labels))\n",
        "train_acc_sigmoid_adam = history_sigmoid_adam.history['accuracy'][-1]\n",
        "test_loss, test_acc_sigmoid_adam = sigmoid_adam_model.evaluate(test_images, test_labels)\n",
        "\n",
        "# Sigmoid + SGD\n",
        "sigmoid_sgd_model = create_model('sigmoid', SGD())\n",
        "history_sigmoid_sgd = sigmoid_sgd_model.fit(train_images, train_labels, epochs=10, batch_size=128, validation_data=(test_images, test_labels))\n",
        "train_acc_sigmoid_sgd = history_sigmoid_sgd.history['accuracy'][-1]\n",
        "test_loss, test_acc_sigmoid_sgd = sigmoid_sgd_model.evaluate(test_images, test_labels)\n"
      ],
      "metadata": {
        "colab": {
          "base_uri": "https://localhost:8080/"
        },
        "id": "90LyhhSCevS4",
        "outputId": "4a6dc98c-aaf7-47f8-e508-ed8e0283d637"
      },
      "execution_count": 17,
      "outputs": [
        {
          "output_type": "stream",
          "name": "stderr",
          "text": [
            "/usr/local/lib/python3.10/dist-packages/keras/src/layers/reshaping/flatten.py:37: UserWarning: Do not pass an `input_shape`/`input_dim` argument to a layer. When using Sequential models, prefer using an `Input(shape)` object as the first layer in the model instead.\n",
            "  super().__init__(**kwargs)\n"
          ]
        },
        {
          "output_type": "stream",
          "name": "stdout",
          "text": [
            "Epoch 1/10\n",
            "\u001b[1m469/469\u001b[0m \u001b[32m━━━━━━━━━━━━━━━━━━━━\u001b[0m\u001b[37m\u001b[0m \u001b[1m5s\u001b[0m 6ms/step - accuracy: 0.8293 - loss: 0.6117 - val_accuracy: 0.9484 - val_loss: 0.1727\n",
            "Epoch 2/10\n",
            "\u001b[1m469/469\u001b[0m \u001b[32m━━━━━━━━━━━━━━━━━━━━\u001b[0m\u001b[37m\u001b[0m \u001b[1m1s\u001b[0m 2ms/step - accuracy: 0.9582 - loss: 0.1417 - val_accuracy: 0.9652 - val_loss: 0.1140\n",
            "Epoch 3/10\n",
            "\u001b[1m469/469\u001b[0m \u001b[32m━━━━━━━━━━━━━━━━━━━━\u001b[0m\u001b[37m\u001b[0m \u001b[1m1s\u001b[0m 2ms/step - accuracy: 0.9720 - loss: 0.0965 - val_accuracy: 0.9672 - val_loss: 0.0994\n",
            "Epoch 4/10\n",
            "\u001b[1m469/469\u001b[0m \u001b[32m━━━━━━━━━━━━━━━━━━━━\u001b[0m\u001b[37m\u001b[0m \u001b[1m2s\u001b[0m 3ms/step - accuracy: 0.9784 - loss: 0.0725 - val_accuracy: 0.9732 - val_loss: 0.0867\n",
            "Epoch 5/10\n",
            "\u001b[1m469/469\u001b[0m \u001b[32m━━━━━━━━━━━━━━━━━━━━\u001b[0m\u001b[37m\u001b[0m \u001b[1m2s\u001b[0m 2ms/step - accuracy: 0.9835 - loss: 0.0546 - val_accuracy: 0.9742 - val_loss: 0.0795\n",
            "Epoch 6/10\n",
            "\u001b[1m469/469\u001b[0m \u001b[32m━━━━━━━━━━━━━━━━━━━━\u001b[0m\u001b[37m\u001b[0m \u001b[1m1s\u001b[0m 2ms/step - accuracy: 0.9867 - loss: 0.0431 - val_accuracy: 0.9728 - val_loss: 0.0906\n",
            "Epoch 7/10\n",
            "\u001b[1m469/469\u001b[0m \u001b[32m━━━━━━━━━━━━━━━━━━━━\u001b[0m\u001b[37m\u001b[0m \u001b[1m1s\u001b[0m 2ms/step - accuracy: 0.9896 - loss: 0.0341 - val_accuracy: 0.9738 - val_loss: 0.0868\n",
            "Epoch 8/10\n",
            "\u001b[1m469/469\u001b[0m \u001b[32m━━━━━━━━━━━━━━━━━━━━\u001b[0m\u001b[37m\u001b[0m \u001b[1m1s\u001b[0m 2ms/step - accuracy: 0.9912 - loss: 0.0290 - val_accuracy: 0.9765 - val_loss: 0.0762\n",
            "Epoch 9/10\n",
            "\u001b[1m469/469\u001b[0m \u001b[32m━━━━━━━━━━━━━━━━━━━━\u001b[0m\u001b[37m\u001b[0m \u001b[1m1s\u001b[0m 2ms/step - accuracy: 0.9935 - loss: 0.0228 - val_accuracy: 0.9747 - val_loss: 0.0868\n",
            "Epoch 10/10\n",
            "\u001b[1m469/469\u001b[0m \u001b[32m━━━━━━━━━━━━━━━━━━━━\u001b[0m\u001b[37m\u001b[0m \u001b[1m1s\u001b[0m 2ms/step - accuracy: 0.9942 - loss: 0.0208 - val_accuracy: 0.9764 - val_loss: 0.0845\n",
            "\u001b[1m313/313\u001b[0m \u001b[32m━━━━━━━━━━━━━━━━━━━━\u001b[0m\u001b[37m\u001b[0m \u001b[1m1s\u001b[0m 1ms/step - accuracy: 0.9737 - loss: 0.1006\n",
            "Epoch 1/10\n",
            "\u001b[1m469/469\u001b[0m \u001b[32m━━━━━━━━━━━━━━━━━━━━\u001b[0m\u001b[37m\u001b[0m \u001b[1m3s\u001b[0m 5ms/step - accuracy: 0.5232 - loss: 1.6995 - val_accuracy: 0.8582 - val_loss: 0.5849\n",
            "Epoch 2/10\n",
            "\u001b[1m469/469\u001b[0m \u001b[32m━━━━━━━━━━━━━━━━━━━━\u001b[0m\u001b[37m\u001b[0m \u001b[1m3s\u001b[0m 2ms/step - accuracy: 0.8610 - loss: 0.5395 - val_accuracy: 0.8921 - val_loss: 0.4033\n",
            "Epoch 3/10\n",
            "\u001b[1m469/469\u001b[0m \u001b[32m━━━━━━━━━━━━━━━━━━━━\u001b[0m\u001b[37m\u001b[0m \u001b[1m1s\u001b[0m 2ms/step - accuracy: 0.8895 - loss: 0.4048 - val_accuracy: 0.9025 - val_loss: 0.3481\n",
            "Epoch 4/10\n",
            "\u001b[1m469/469\u001b[0m \u001b[32m━━━━━━━━━━━━━━━━━━━━\u001b[0m\u001b[37m\u001b[0m \u001b[1m1s\u001b[0m 2ms/step - accuracy: 0.9019 - loss: 0.3517 - val_accuracy: 0.9108 - val_loss: 0.3169\n",
            "Epoch 5/10\n",
            "\u001b[1m469/469\u001b[0m \u001b[32m━━━━━━━━━━━━━━━━━━━━\u001b[0m\u001b[37m\u001b[0m \u001b[1m1s\u001b[0m 2ms/step - accuracy: 0.9099 - loss: 0.3236 - val_accuracy: 0.9161 - val_loss: 0.2969\n",
            "Epoch 6/10\n",
            "\u001b[1m469/469\u001b[0m \u001b[32m━━━━━━━━━━━━━━━━━━━━\u001b[0m\u001b[37m\u001b[0m \u001b[1m1s\u001b[0m 2ms/step - accuracy: 0.9142 - loss: 0.3060 - val_accuracy: 0.9221 - val_loss: 0.2799\n",
            "Epoch 7/10\n",
            "\u001b[1m469/469\u001b[0m \u001b[32m━━━━━━━━━━━━━━━━━━━━\u001b[0m\u001b[37m\u001b[0m \u001b[1m1s\u001b[0m 2ms/step - accuracy: 0.9195 - loss: 0.2854 - val_accuracy: 0.9251 - val_loss: 0.2692\n",
            "Epoch 8/10\n",
            "\u001b[1m469/469\u001b[0m \u001b[32m━━━━━━━━━━━━━━━━━━━━\u001b[0m\u001b[37m\u001b[0m \u001b[1m1s\u001b[0m 2ms/step - accuracy: 0.9238 - loss: 0.2701 - val_accuracy: 0.9304 - val_loss: 0.2565\n",
            "Epoch 9/10\n",
            "\u001b[1m469/469\u001b[0m \u001b[32m━━━━━━━━━━━━━━━━━━━━\u001b[0m\u001b[37m\u001b[0m \u001b[1m2s\u001b[0m 3ms/step - accuracy: 0.9265 - loss: 0.2580 - val_accuracy: 0.9321 - val_loss: 0.2467\n",
            "Epoch 10/10\n",
            "\u001b[1m469/469\u001b[0m \u001b[32m━━━━━━━━━━━━━━━━━━━━\u001b[0m\u001b[37m\u001b[0m \u001b[1m2s\u001b[0m 2ms/step - accuracy: 0.9292 - loss: 0.2494 - val_accuracy: 0.9331 - val_loss: 0.2373\n",
            "\u001b[1m313/313\u001b[0m \u001b[32m━━━━━━━━━━━━━━━━━━━━\u001b[0m\u001b[37m\u001b[0m \u001b[1m1s\u001b[0m 1ms/step - accuracy: 0.9222 - loss: 0.2718\n",
            "Epoch 1/10\n",
            "\u001b[1m469/469\u001b[0m \u001b[32m━━━━━━━━━━━━━━━━━━━━\u001b[0m\u001b[37m\u001b[0m \u001b[1m4s\u001b[0m 5ms/step - accuracy: 0.6860 - loss: 1.3109 - val_accuracy: 0.9143 - val_loss: 0.3187\n",
            "Epoch 2/10\n",
            "\u001b[1m469/469\u001b[0m \u001b[32m━━━━━━━━━━━━━━━━━━━━\u001b[0m\u001b[37m\u001b[0m \u001b[1m1s\u001b[0m 2ms/step - accuracy: 0.9195 - loss: 0.2903 - val_accuracy: 0.9363 - val_loss: 0.2168\n",
            "Epoch 3/10\n",
            "\u001b[1m469/469\u001b[0m \u001b[32m━━━━━━━━━━━━━━━━━━━━\u001b[0m\u001b[37m\u001b[0m \u001b[1m1s\u001b[0m 2ms/step - accuracy: 0.9403 - loss: 0.2082 - val_accuracy: 0.9494 - val_loss: 0.1711\n",
            "Epoch 4/10\n",
            "\u001b[1m469/469\u001b[0m \u001b[32m━━━━━━━━━━━━━━━━━━━━\u001b[0m\u001b[37m\u001b[0m \u001b[1m1s\u001b[0m 2ms/step - accuracy: 0.9544 - loss: 0.1605 - val_accuracy: 0.9566 - val_loss: 0.1435\n",
            "Epoch 5/10\n",
            "\u001b[1m469/469\u001b[0m \u001b[32m━━━━━━━━━━━━━━━━━━━━\u001b[0m\u001b[37m\u001b[0m \u001b[1m1s\u001b[0m 3ms/step - accuracy: 0.9636 - loss: 0.1280 - val_accuracy: 0.9632 - val_loss: 0.1257\n",
            "Epoch 6/10\n",
            "\u001b[1m469/469\u001b[0m \u001b[32m━━━━━━━━━━━━━━━━━━━━\u001b[0m\u001b[37m\u001b[0m \u001b[1m2s\u001b[0m 2ms/step - accuracy: 0.9698 - loss: 0.1073 - val_accuracy: 0.9660 - val_loss: 0.1109\n",
            "Epoch 7/10\n",
            "\u001b[1m469/469\u001b[0m \u001b[32m━━━━━━━━━━━━━━━━━━━━\u001b[0m\u001b[37m\u001b[0m \u001b[1m1s\u001b[0m 2ms/step - accuracy: 0.9742 - loss: 0.0896 - val_accuracy: 0.9692 - val_loss: 0.0987\n",
            "Epoch 8/10\n",
            "\u001b[1m469/469\u001b[0m \u001b[32m━━━━━━━━━━━━━━━━━━━━\u001b[0m\u001b[37m\u001b[0m \u001b[1m1s\u001b[0m 2ms/step - accuracy: 0.9782 - loss: 0.0783 - val_accuracy: 0.9699 - val_loss: 0.0931\n",
            "Epoch 9/10\n",
            "\u001b[1m469/469\u001b[0m \u001b[32m━━━━━━━━━━━━━━━━━━━━\u001b[0m\u001b[37m\u001b[0m \u001b[1m1s\u001b[0m 2ms/step - accuracy: 0.9819 - loss: 0.0653 - val_accuracy: 0.9739 - val_loss: 0.0837\n",
            "Epoch 10/10\n",
            "\u001b[1m469/469\u001b[0m \u001b[32m━━━━━━━━━━━━━━━━━━━━\u001b[0m\u001b[37m\u001b[0m \u001b[1m1s\u001b[0m 2ms/step - accuracy: 0.9864 - loss: 0.0532 - val_accuracy: 0.9741 - val_loss: 0.0810\n",
            "\u001b[1m313/313\u001b[0m \u001b[32m━━━━━━━━━━━━━━━━━━━━\u001b[0m\u001b[37m\u001b[0m \u001b[1m1s\u001b[0m 1ms/step - accuracy: 0.9684 - loss: 0.0943\n",
            "Epoch 1/10\n",
            "\u001b[1m469/469\u001b[0m \u001b[32m━━━━━━━━━━━━━━━━━━━━\u001b[0m\u001b[37m\u001b[0m \u001b[1m3s\u001b[0m 4ms/step - accuracy: 0.1255 - loss: 2.3156 - val_accuracy: 0.2398 - val_loss: 2.2493\n",
            "Epoch 2/10\n",
            "\u001b[1m469/469\u001b[0m \u001b[32m━━━━━━━━━━━━━━━━━━━━\u001b[0m\u001b[37m\u001b[0m \u001b[1m1s\u001b[0m 3ms/step - accuracy: 0.2958 - loss: 2.2366 - val_accuracy: 0.4362 - val_loss: 2.1913\n",
            "Epoch 3/10\n",
            "\u001b[1m469/469\u001b[0m \u001b[32m━━━━━━━━━━━━━━━━━━━━\u001b[0m\u001b[37m\u001b[0m \u001b[1m1s\u001b[0m 3ms/step - accuracy: 0.4369 - loss: 2.1750 - val_accuracy: 0.5513 - val_loss: 2.1123\n",
            "Epoch 4/10\n",
            "\u001b[1m469/469\u001b[0m \u001b[32m━━━━━━━━━━━━━━━━━━━━\u001b[0m\u001b[37m\u001b[0m \u001b[1m1s\u001b[0m 2ms/step - accuracy: 0.5502 - loss: 2.0906 - val_accuracy: 0.5790 - val_loss: 1.9987\n",
            "Epoch 5/10\n",
            "\u001b[1m469/469\u001b[0m \u001b[32m━━━━━━━━━━━━━━━━━━━━\u001b[0m\u001b[37m\u001b[0m \u001b[1m1s\u001b[0m 2ms/step - accuracy: 0.5770 - loss: 1.9676 - val_accuracy: 0.6000 - val_loss: 1.8408\n",
            "Epoch 6/10\n",
            "\u001b[1m469/469\u001b[0m \u001b[32m━━━━━━━━━━━━━━━━━━━━\u001b[0m\u001b[37m\u001b[0m \u001b[1m1s\u001b[0m 2ms/step - accuracy: 0.6098 - loss: 1.8013 - val_accuracy: 0.6377 - val_loss: 1.6491\n",
            "Epoch 7/10\n",
            "\u001b[1m469/469\u001b[0m \u001b[32m━━━━━━━━━━━━━━━━━━━━\u001b[0m\u001b[37m\u001b[0m \u001b[1m1s\u001b[0m 2ms/step - accuracy: 0.6423 - loss: 1.6111 - val_accuracy: 0.6847 - val_loss: 1.4528\n",
            "Epoch 8/10\n",
            "\u001b[1m469/469\u001b[0m \u001b[32m━━━━━━━━━━━━━━━━━━━━\u001b[0m\u001b[37m\u001b[0m \u001b[1m1s\u001b[0m 2ms/step - accuracy: 0.6852 - loss: 1.4193 - val_accuracy: 0.7142 - val_loss: 1.2801\n",
            "Epoch 9/10\n",
            "\u001b[1m469/469\u001b[0m \u001b[32m━━━━━━━━━━━━━━━━━━━━\u001b[0m\u001b[37m\u001b[0m \u001b[1m1s\u001b[0m 2ms/step - accuracy: 0.7121 - loss: 1.2552 - val_accuracy: 0.7475 - val_loss: 1.1397\n",
            "Epoch 10/10\n",
            "\u001b[1m469/469\u001b[0m \u001b[32m━━━━━━━━━━━━━━━━━━━━\u001b[0m\u001b[37m\u001b[0m \u001b[1m1s\u001b[0m 2ms/step - accuracy: 0.7445 - loss: 1.1218 - val_accuracy: 0.7696 - val_loss: 1.0277\n",
            "\u001b[1m313/313\u001b[0m \u001b[32m━━━━━━━━━━━━━━━━━━━━\u001b[0m\u001b[37m\u001b[0m \u001b[1m1s\u001b[0m 1ms/step - accuracy: 0.7480 - loss: 1.0757\n"
          ]
        }
      ]
    },
    {
      "cell_type": "code",
      "source": [
        "# Display results\n",
        "print(\"\\nMethod\\t\\t\\tAccuracy Training Dataset\\tAccuracy Testing Set\")\n",
        "print(f\"Relu + Adam\\t\\t{train_acc_relu_adam:.4f}\\t\\t\\t\\t{test_acc_relu_adam:.4f}\")\n",
        "print(f\"Relu + Gradient Descent\\t{train_acc_relu_sgd:.4f}\\t\\t\\t\\t{test_acc_relu_sgd:.4f}\")\n",
        "print(f\"Sigmoid + Adam\\t\\t{train_acc_sigmoid_adam:.4f}\\t\\t\\t\\t{test_acc_sigmoid_adam:.4f}\")\n",
        "print(f\"Sigmoid + Gradient Descent\\t{train_acc_sigmoid_sgd:.4f}\\t\\t\\t\\t{test_acc_sigmoid_sgd:.4f}\")"
      ],
      "metadata": {
        "colab": {
          "base_uri": "https://localhost:8080/"
        },
        "id": "IGLJL4Kne1P8",
        "outputId": "f708a8b3-7efa-4a9f-db0f-47dab62feecb"
      },
      "execution_count": 18,
      "outputs": [
        {
          "output_type": "stream",
          "name": "stdout",
          "text": [
            "\n",
            "Method\t\t\tAccuracy Training Dataset\tAccuracy Testing Set\n",
            "Relu + Adam\t\t0.9935\t\t\t\t0.9764\n",
            "Relu + Gradient Descent\t0.9308\t\t\t\t0.9331\n",
            "Sigmoid + Adam\t\t0.9854\t\t\t\t0.9741\n",
            "Sigmoid + Gradient Descent\t0.7496\t\t\t\t0.7696\n"
          ]
        }
      ]
    },
    {
      "cell_type": "markdown",
      "metadata": {
        "id": "uGD1DDx2-FNB"
      },
      "source": [
        "## Fashion MNIST\n",
        "\n",
        "It may be interesting to check if the network that we have created may produce good results with other types of databases. MNIST is a very popular database, that was created in the 90s to compare the performance of different machine learning algorithms. Today, it is easy to obtain good results to solve the problem of handwritten digit recognition using neural networks or other machine learning approaches.\n",
        "\n",
        "An alternative to MNIST is Fashion MNIST which share the same structure and can be easily integrated in any program working with MNIST. Fashion MNIST also consist in a set of 60.000 training images with a resolution of 28x28 and 256 gray levels and 10.000 testing images. The difference between both databases is that Fashion MNIST includes images of different types of clothing. Instead of the digits number, now the labels are T-shirt/top, Trouser, Pullover, Dress, etc.\n",
        "\n",
        "As the format of the images and the internal structure of the database is the same, it is easy to adapt our program to test its performance in Fashion MNIST. The only sentences that we have to change are the reading of the dataset and the definition of the classes names associated to the integer levels. That is:"
      ]
    },
    {
      "cell_type": "code",
      "metadata": {
        "id": "x5q40bLFF-EW",
        "colab": {
          "base_uri": "https://localhost:8080/"
        },
        "outputId": "622aadd8-87f3-4ca7-d475-e07ceb25d118"
      },
      "source": [
        "# Defining libraries\n",
        "from tensorflow.keras import layers\n",
        "from tensorflow.keras import models\n",
        "\n",
        "# Other helper libraries\n",
        "\n",
        "import numpy as np\n",
        "import matplotlib.pyplot as plt\n",
        "\n",
        "# Reading data from MNIST libraries\n",
        "\n",
        "from tensorflow.keras.datasets import fashion_mnist\n",
        "from tensorflow.keras.utils import to_categorical\n",
        "\n",
        "(train_images,train_labels),(test_images,test_labels) = fashion_mnist.load_data()\n",
        "\n",
        "# We also normalize the images\n",
        "\n",
        "train_images = train_images / 255.0\n",
        "test_images = test_images / 255.0\n"
      ],
      "execution_count": 19,
      "outputs": [
        {
          "output_type": "stream",
          "name": "stdout",
          "text": [
            "Downloading data from https://storage.googleapis.com/tensorflow/tf-keras-datasets/train-labels-idx1-ubyte.gz\n",
            "\u001b[1m29515/29515\u001b[0m \u001b[32m━━━━━━━━━━━━━━━━━━━━\u001b[0m\u001b[37m\u001b[0m \u001b[1m0s\u001b[0m 0us/step\n",
            "Downloading data from https://storage.googleapis.com/tensorflow/tf-keras-datasets/train-images-idx3-ubyte.gz\n",
            "\u001b[1m26421880/26421880\u001b[0m \u001b[32m━━━━━━━━━━━━━━━━━━━━\u001b[0m\u001b[37m\u001b[0m \u001b[1m1s\u001b[0m 0us/step\n",
            "Downloading data from https://storage.googleapis.com/tensorflow/tf-keras-datasets/t10k-labels-idx1-ubyte.gz\n",
            "\u001b[1m5148/5148\u001b[0m \u001b[32m━━━━━━━━━━━━━━━━━━━━\u001b[0m\u001b[37m\u001b[0m \u001b[1m0s\u001b[0m 0us/step\n",
            "Downloading data from https://storage.googleapis.com/tensorflow/tf-keras-datasets/t10k-images-idx3-ubyte.gz\n",
            "\u001b[1m4422102/4422102\u001b[0m \u001b[32m━━━━━━━━━━━━━━━━━━━━\u001b[0m\u001b[37m\u001b[0m \u001b[1m1s\u001b[0m 0us/step\n"
          ]
        }
      ]
    },
    {
      "cell_type": "code",
      "metadata": {
        "id": "talKLGHjGAyp"
      },
      "source": [
        "# Naming the different classes with their labels\n",
        "\n",
        "class_names = ['T-shirt/top', 'Trouser', 'Pullover', 'Dress', 'Coat',\n",
        "               'Sandal', 'Shirt', 'Sneaker', 'Bag', 'Ankle boot']\n",
        "\n",
        "\n",
        "# %% Training the network cell\n",
        "\n",
        "''' UNCOMMENT THIS SECTION TO IMPLEMENT A LINEAR REGRESSION\n",
        "# Defining & building a model of linear regression (one layer of 10 neurons)\n",
        "\n",
        "model = models.Sequential()\n",
        "model.add(layers.Flatten(input_shape=(28,28)))\n",
        "model.add(layers.Dense(10,activation='softmax'))\n",
        "\n",
        "'''\n",
        "# Defining & building a model of 2 hidden layers and an ouput\n",
        "\n",
        "model = models.Sequential()\n",
        "model.add(layers.Flatten())\n",
        "model.add(layers.Dense(128,activation='relu'))\n",
        "model.add(layers.Dense(64,activation='relu'))\n",
        "model.add(layers.Dense(10,activation='softmax'))\n"
      ],
      "execution_count": 20,
      "outputs": []
    },
    {
      "cell_type": "code",
      "metadata": {
        "id": "nYsAG99pHIS5",
        "colab": {
          "base_uri": "https://localhost:8080/"
        },
        "outputId": "f691efd2-8460-416b-b6aa-ad41b4b0d63b"
      },
      "source": [
        "# Compiling the model\n",
        "\n",
        "model.compile(optimizer='rmsprop',\n",
        "              loss='sparse_categorical_crossentropy',\n",
        "              metrics=['accuracy'])\n",
        "\n",
        "# Training the model\n",
        "\n",
        "model.fit(train_images, train_labels, epochs=20)\n",
        "\n",
        "# Evaluating the results\n",
        "\n",
        "test_loss, test_acc = model.evaluate(test_images, test_labels)\n",
        "print('Test accuracy:', test_acc)\n",
        "\n",
        "# Making Predictions\n",
        "\n",
        "predictions = model.predict(test_images)\n"
      ],
      "execution_count": 21,
      "outputs": [
        {
          "output_type": "stream",
          "name": "stdout",
          "text": [
            "Epoch 1/20\n",
            "\u001b[1m1875/1875\u001b[0m \u001b[32m━━━━━━━━━━━━━━━━━━━━\u001b[0m\u001b[37m\u001b[0m \u001b[1m4s\u001b[0m 2ms/step - accuracy: 0.7696 - loss: 0.6438\n",
            "Epoch 2/20\n",
            "\u001b[1m1875/1875\u001b[0m \u001b[32m━━━━━━━━━━━━━━━━━━━━\u001b[0m\u001b[37m\u001b[0m \u001b[1m3s\u001b[0m 2ms/step - accuracy: 0.8635 - loss: 0.3782\n",
            "Epoch 3/20\n",
            "\u001b[1m1875/1875\u001b[0m \u001b[32m━━━━━━━━━━━━━━━━━━━━\u001b[0m\u001b[37m\u001b[0m \u001b[1m3s\u001b[0m 2ms/step - accuracy: 0.8762 - loss: 0.3461\n",
            "Epoch 4/20\n",
            "\u001b[1m1875/1875\u001b[0m \u001b[32m━━━━━━━━━━━━━━━━━━━━\u001b[0m\u001b[37m\u001b[0m \u001b[1m4s\u001b[0m 2ms/step - accuracy: 0.8846 - loss: 0.3282\n",
            "Epoch 5/20\n",
            "\u001b[1m1875/1875\u001b[0m \u001b[32m━━━━━━━━━━━━━━━━━━━━\u001b[0m\u001b[37m\u001b[0m \u001b[1m5s\u001b[0m 2ms/step - accuracy: 0.8854 - loss: 0.3289\n",
            "Epoch 6/20\n",
            "\u001b[1m1875/1875\u001b[0m \u001b[32m━━━━━━━━━━━━━━━━━━━━\u001b[0m\u001b[37m\u001b[0m \u001b[1m6s\u001b[0m 2ms/step - accuracy: 0.8910 - loss: 0.3139\n",
            "Epoch 7/20\n",
            "\u001b[1m1875/1875\u001b[0m \u001b[32m━━━━━━━━━━━━━━━━━━━━\u001b[0m\u001b[37m\u001b[0m \u001b[1m4s\u001b[0m 2ms/step - accuracy: 0.8902 - loss: 0.3144\n",
            "Epoch 8/20\n",
            "\u001b[1m1875/1875\u001b[0m \u001b[32m━━━━━━━━━━━━━━━━━━━━\u001b[0m\u001b[37m\u001b[0m \u001b[1m3s\u001b[0m 2ms/step - accuracy: 0.8931 - loss: 0.3050\n",
            "Epoch 9/20\n",
            "\u001b[1m1875/1875\u001b[0m \u001b[32m━━━━━━━━━━━━━━━━━━━━\u001b[0m\u001b[37m\u001b[0m \u001b[1m3s\u001b[0m 2ms/step - accuracy: 0.8963 - loss: 0.2987\n",
            "Epoch 10/20\n",
            "\u001b[1m1875/1875\u001b[0m \u001b[32m━━━━━━━━━━━━━━━━━━━━\u001b[0m\u001b[37m\u001b[0m \u001b[1m4s\u001b[0m 2ms/step - accuracy: 0.8980 - loss: 0.2901\n",
            "Epoch 11/20\n",
            "\u001b[1m1875/1875\u001b[0m \u001b[32m━━━━━━━━━━━━━━━━━━━━\u001b[0m\u001b[37m\u001b[0m \u001b[1m4s\u001b[0m 2ms/step - accuracy: 0.8998 - loss: 0.2944\n",
            "Epoch 12/20\n",
            "\u001b[1m1875/1875\u001b[0m \u001b[32m━━━━━━━━━━━━━━━━━━━━\u001b[0m\u001b[37m\u001b[0m \u001b[1m3s\u001b[0m 2ms/step - accuracy: 0.9038 - loss: 0.2835\n",
            "Epoch 13/20\n",
            "\u001b[1m1875/1875\u001b[0m \u001b[32m━━━━━━━━━━━━━━━━━━━━\u001b[0m\u001b[37m\u001b[0m \u001b[1m6s\u001b[0m 2ms/step - accuracy: 0.9037 - loss: 0.2825\n",
            "Epoch 14/20\n",
            "\u001b[1m1875/1875\u001b[0m \u001b[32m━━━━━━━━━━━━━━━━━━━━\u001b[0m\u001b[37m\u001b[0m \u001b[1m3s\u001b[0m 2ms/step - accuracy: 0.9037 - loss: 0.2789\n",
            "Epoch 15/20\n",
            "\u001b[1m1875/1875\u001b[0m \u001b[32m━━━━━━━━━━━━━━━━━━━━\u001b[0m\u001b[37m\u001b[0m \u001b[1m5s\u001b[0m 2ms/step - accuracy: 0.9032 - loss: 0.2783\n",
            "Epoch 16/20\n",
            "\u001b[1m1875/1875\u001b[0m \u001b[32m━━━━━━━━━━━━━━━━━━━━\u001b[0m\u001b[37m\u001b[0m \u001b[1m4s\u001b[0m 2ms/step - accuracy: 0.9069 - loss: 0.2744\n",
            "Epoch 17/20\n",
            "\u001b[1m1875/1875\u001b[0m \u001b[32m━━━━━━━━━━━━━━━━━━━━\u001b[0m\u001b[37m\u001b[0m \u001b[1m3s\u001b[0m 2ms/step - accuracy: 0.9079 - loss: 0.2785\n",
            "Epoch 18/20\n",
            "\u001b[1m1875/1875\u001b[0m \u001b[32m━━━━━━━━━━━━━━━━━━━━\u001b[0m\u001b[37m\u001b[0m \u001b[1m3s\u001b[0m 2ms/step - accuracy: 0.9096 - loss: 0.2668\n",
            "Epoch 19/20\n",
            "\u001b[1m1875/1875\u001b[0m \u001b[32m━━━━━━━━━━━━━━━━━━━━\u001b[0m\u001b[37m\u001b[0m \u001b[1m3s\u001b[0m 2ms/step - accuracy: 0.9092 - loss: 0.2702\n",
            "Epoch 20/20\n",
            "\u001b[1m1875/1875\u001b[0m \u001b[32m━━━━━━━━━━━━━━━━━━━━\u001b[0m\u001b[37m\u001b[0m \u001b[1m4s\u001b[0m 2ms/step - accuracy: 0.9085 - loss: 0.2645\n",
            "\u001b[1m313/313\u001b[0m \u001b[32m━━━━━━━━━━━━━━━━━━━━\u001b[0m\u001b[37m\u001b[0m \u001b[1m1s\u001b[0m 2ms/step - accuracy: 0.8800 - loss: 0.5447\n",
            "Test accuracy: 0.8805000185966492\n",
            "\u001b[1m313/313\u001b[0m \u001b[32m━━━━━━━━━━━━━━━━━━━━\u001b[0m\u001b[37m\u001b[0m \u001b[1m1s\u001b[0m 2ms/step\n"
          ]
        }
      ]
    },
    {
      "cell_type": "code",
      "metadata": {
        "id": "rVEuoms--oKN",
        "colab": {
          "base_uri": "https://localhost:8080/",
          "height": 672
        },
        "outputId": "008a052d-e773-4f24-d1d8-5917afe1c75c"
      },
      "source": [
        "\n",
        "# %% Graphical represntation of a single prediction\n",
        "\n",
        "# Basic plotting functions definitions\n",
        "\n",
        "def plot_image(i, predictions_array, true_label, img):\n",
        "  predictions_array, true_label, img = predictions_array[i], true_label[i], img[i]\n",
        "  plt.grid(False)\n",
        "  plt.xticks([])\n",
        "  plt.yticks([])\n",
        "\n",
        "  plt.imshow(img, cmap=plt.cm.binary)\n",
        "\n",
        "  predicted_label = np.argmax(predictions_array)\n",
        "  if predicted_label == true_label:\n",
        "    color = 'blue'\n",
        "  else:\n",
        "    color = 'red'\n",
        "\n",
        "  plt.xlabel(\"{} {:2.0f}% ({})\".format(class_names[predicted_label],\n",
        "                                100*np.max(predictions_array),\n",
        "                                class_names[true_label]),\n",
        "                                color=color)\n",
        "\n",
        "def plot_value_array(i, predictions_array, true_label):\n",
        "  predictions_array, true_label = predictions_array[i], true_label[i]\n",
        "  plt.grid(False)\n",
        "  plt.xticks([])\n",
        "  plt.yticks([])\n",
        "  thisplot = plt.bar(range(10), predictions_array, color=\"#777777\")\n",
        "  plt.ylim([0, 1])\n",
        "  predicted_label = np.argmax(predictions_array)\n",
        "\n",
        "  thisplot[predicted_label].set_color('red')\n",
        "  thisplot[true_label].set_color('blue')\n",
        "\n",
        "# %% Plotting various samples\n",
        "\n",
        "# Plot the first X test images, their predicted label, and the true label\n",
        "# Color correct predictions in blue, incorrect predictions in red\n",
        "\n",
        "rnd_testing = np.random.randint(10000,size=12)\n",
        "\n",
        "num_rows = 4\n",
        "num_cols = 3\n",
        "num_images = num_rows*num_cols\n",
        "plt.figure(figsize=(2*2*num_cols, 2*num_rows))\n",
        "for i in range(num_images):\n",
        "  plt.subplot(num_rows, 2*num_cols, 2*i+1)\n",
        "  plot_image(rnd_testing[i], predictions, test_labels, test_images)\n",
        "  plt.subplot(num_rows, 2*num_cols, 2*i+2)\n",
        "  plot_value_array(rnd_testing[i], predictions, test_labels)\n",
        "\n",
        "\n"
      ],
      "execution_count": 22,
      "outputs": [
        {
          "output_type": "display_data",
          "data": {
            "text/plain": [
              "<Figure size 1200x800 with 24 Axes>"
            ],
            "image/png": "[encoded data removed]"
          },
          "metadata": {}
        }
      ]
    },
    {
      "cell_type": "markdown",
      "metadata": {
        "id": "MvfQz_pujsYQ"
      },
      "source": [
        "**Question 5.**\n",
        "\n",
        "In this part of the exercise we will try to find a configuration of a 3 layer fully connected perceptron offering the better achievable accuracy for the test dataset. To do that we propose to select the activation functions and the learning method that produced best results in Question 5 and try to find a suitable architecture (number of neurons per layer) to maximize the accuracy in the test set. Possibly, as the number of parameters in fully connected networks increases you also should train your network during more epochs. Fill in the following table:\n",
        "\n",
        "NEURONS LAYER 1| data\n",
        "---|---\n",
        "NEURONS LAYER 2| 128\n",
        "NEURONS LAYER 3|10\n",
        "ACTIVATIONS LAYERS 1+2|sigmoid\n",
        "ACCURACY TRAINING SET|0.9147\n",
        "ACCURACY TEST SET|0.8854\n"
      ]
    },
    {
      "cell_type": "code",
      "source": [
        "#3-layer fully connected model with customizable neurons\n",
        "def create_model(neurons_layer2, activation):\n",
        "    model = models.Sequential()\n",
        "    model.add(layers.Flatten(input_shape=(28, 28)))\n",
        "    model.add(layers.Dense(neurons_layer2, activation=activation))\n",
        "    model.add(layers.Dense(10, activation='softmax'))\n",
        "    model.compile(optimizer=Adam(), loss='sparse_categorical_crossentropy', metrics=['accuracy'])\n",
        "    return model\n",
        "\n",
        "\n",
        "neurons_layer2 = 128\n",
        "activation = 'sigmoid'\n",
        "\n",
        "model = create_model(neurons_layer2, activation)\n",
        "\n",
        "# Train model for 20 epochs (you can increase epochs as needed)\n",
        "history = model.fit(train_images, train_labels, epochs=20, batch_size=128, validation_data=(test_images, test_labels))\n",
        "\n",
        "#accuracy\n",
        "train_acc = history.history['accuracy'][-1]\n",
        "test_loss, test_acc = model.evaluate(test_images, test_labels)\n",
        "\n",
        "#result\n",
        "print(f\"Neurons Layer 2: {neurons_layer2}\")\n",
        "print(f\"Activation: {activation}\")\n",
        "print(f\"Training Accuracy: {train_acc:.4f}\")\n",
        "print(f\"Test Accuracy: {test_acc:.4f}\")\n"
      ],
      "metadata": {
        "colab": {
          "base_uri": "https://localhost:8080/"
        },
        "id": "TZd5SIVGiJOu",
        "outputId": "5e3b7f1f-59b5-4f94-f407-27ac24a0ac61"
      },
      "execution_count": 31,
      "outputs": [
        {
          "output_type": "stream",
          "name": "stderr",
          "text": [
            "/usr/local/lib/python3.10/dist-packages/keras/src/layers/reshaping/flatten.py:37: UserWarning: Do not pass an `input_shape`/`input_dim` argument to a layer. When using Sequential models, prefer using an `Input(shape)` object as the first layer in the model instead.\n",
            "  super().__init__(**kwargs)\n"
          ]
        },
        {
          "output_type": "stream",
          "name": "stdout",
          "text": [
            "Epoch 1/20\n",
            "\u001b[1m469/469\u001b[0m \u001b[32m━━━━━━━━━━━━━━━━━━━━\u001b[0m\u001b[37m\u001b[0m \u001b[1m3s\u001b[0m 4ms/step - accuracy: 0.6899 - loss: 1.0083 - val_accuracy: 0.8199 - val_loss: 0.5069\n",
            "Epoch 2/20\n",
            "\u001b[1m469/469\u001b[0m \u001b[32m━━━━━━━━━━━━━━━━━━━━\u001b[0m\u001b[37m\u001b[0m \u001b[1m1s\u001b[0m 2ms/step - accuracy: 0.8398 - loss: 0.4637 - val_accuracy: 0.8431 - val_loss: 0.4461\n",
            "Epoch 3/20\n",
            "\u001b[1m469/469\u001b[0m \u001b[32m━━━━━━━━━━━━━━━━━━━━\u001b[0m\u001b[37m\u001b[0m \u001b[1m1s\u001b[0m 2ms/step - accuracy: 0.8574 - loss: 0.4025 - val_accuracy: 0.8520 - val_loss: 0.4163\n",
            "Epoch 4/20\n",
            "\u001b[1m469/469\u001b[0m \u001b[32m━━━━━━━━━━━━━━━━━━━━\u001b[0m\u001b[37m\u001b[0m \u001b[1m1s\u001b[0m 2ms/step - accuracy: 0.8650 - loss: 0.3768 - val_accuracy: 0.8546 - val_loss: 0.4054\n",
            "Epoch 5/20\n",
            "\u001b[1m469/469\u001b[0m \u001b[32m━━━━━━━━━━━━━━━━━━━━\u001b[0m\u001b[37m\u001b[0m \u001b[1m1s\u001b[0m 2ms/step - accuracy: 0.8750 - loss: 0.3511 - val_accuracy: 0.8629 - val_loss: 0.3882\n",
            "Epoch 6/20\n",
            "\u001b[1m469/469\u001b[0m \u001b[32m━━━━━━━━━━━━━━━━━━━━\u001b[0m\u001b[37m\u001b[0m \u001b[1m1s\u001b[0m 2ms/step - accuracy: 0.8752 - loss: 0.3475 - val_accuracy: 0.8623 - val_loss: 0.3839\n",
            "Epoch 7/20\n",
            "\u001b[1m469/469\u001b[0m \u001b[32m━━━━━━━━━━━━━━━━━━━━\u001b[0m\u001b[37m\u001b[0m \u001b[1m1s\u001b[0m 2ms/step - accuracy: 0.8815 - loss: 0.3293 - val_accuracy: 0.8682 - val_loss: 0.3681\n",
            "Epoch 8/20\n",
            "\u001b[1m469/469\u001b[0m \u001b[32m━━━━━━━━━━━━━━━━━━━━\u001b[0m\u001b[37m\u001b[0m \u001b[1m2s\u001b[0m 3ms/step - accuracy: 0.8870 - loss: 0.3173 - val_accuracy: 0.8686 - val_loss: 0.3690\n",
            "Epoch 9/20\n",
            "\u001b[1m469/469\u001b[0m \u001b[32m━━━━━━━━━━━━━━━━━━━━\u001b[0m\u001b[37m\u001b[0m \u001b[1m2s\u001b[0m 2ms/step - accuracy: 0.8894 - loss: 0.3090 - val_accuracy: 0.8740 - val_loss: 0.3523\n",
            "Epoch 10/20\n",
            "\u001b[1m469/469\u001b[0m \u001b[32m━━━━━━━━━━━━━━━━━━━━\u001b[0m\u001b[37m\u001b[0m \u001b[1m1s\u001b[0m 2ms/step - accuracy: 0.8923 - loss: 0.2980 - val_accuracy: 0.8740 - val_loss: 0.3534\n",
            "Epoch 11/20\n",
            "\u001b[1m469/469\u001b[0m \u001b[32m━━━━━━━━━━━━━━━━━━━━\u001b[0m\u001b[37m\u001b[0m \u001b[1m1s\u001b[0m 2ms/step - accuracy: 0.8969 - loss: 0.2886 - val_accuracy: 0.8749 - val_loss: 0.3447\n",
            "Epoch 12/20\n",
            "\u001b[1m469/469\u001b[0m \u001b[32m━━━━━━━━━━━━━━━━━━━━\u001b[0m\u001b[37m\u001b[0m \u001b[1m1s\u001b[0m 2ms/step - accuracy: 0.8966 - loss: 0.2844 - val_accuracy: 0.8702 - val_loss: 0.3563\n",
            "Epoch 13/20\n",
            "\u001b[1m469/469\u001b[0m \u001b[32m━━━━━━━━━━━━━━━━━━━━\u001b[0m\u001b[37m\u001b[0m \u001b[1m1s\u001b[0m 2ms/step - accuracy: 0.9012 - loss: 0.2770 - val_accuracy: 0.8768 - val_loss: 0.3443\n",
            "Epoch 14/20\n",
            "\u001b[1m469/469\u001b[0m \u001b[32m━━━━━━━━━━━━━━━━━━━━\u001b[0m\u001b[37m\u001b[0m \u001b[1m1s\u001b[0m 2ms/step - accuracy: 0.9025 - loss: 0.2670 - val_accuracy: 0.8797 - val_loss: 0.3318\n",
            "Epoch 15/20\n",
            "\u001b[1m469/469\u001b[0m \u001b[32m━━━━━━━━━━━━━━━━━━━━\u001b[0m\u001b[37m\u001b[0m \u001b[1m1s\u001b[0m 2ms/step - accuracy: 0.9044 - loss: 0.2636 - val_accuracy: 0.8822 - val_loss: 0.3323\n",
            "Epoch 16/20\n",
            "\u001b[1m469/469\u001b[0m \u001b[32m━━━━━━━━━━━━━━━━━━━━\u001b[0m\u001b[37m\u001b[0m \u001b[1m1s\u001b[0m 2ms/step - accuracy: 0.9080 - loss: 0.2562 - val_accuracy: 0.8824 - val_loss: 0.3335\n",
            "Epoch 17/20\n",
            "\u001b[1m469/469\u001b[0m \u001b[32m━━━━━━━━━━━━━━━━━━━━\u001b[0m\u001b[37m\u001b[0m \u001b[1m1s\u001b[0m 2ms/step - accuracy: 0.9102 - loss: 0.2450 - val_accuracy: 0.8820 - val_loss: 0.3254\n",
            "Epoch 18/20\n",
            "\u001b[1m469/469\u001b[0m \u001b[32m━━━━━━━━━━━━━━━━━━━━\u001b[0m\u001b[37m\u001b[0m \u001b[1m1s\u001b[0m 3ms/step - accuracy: 0.9113 - loss: 0.2446 - val_accuracy: 0.8806 - val_loss: 0.3269\n",
            "Epoch 19/20\n",
            "\u001b[1m469/469\u001b[0m \u001b[32m━━━━━━━━━━━━━━━━━━━━\u001b[0m\u001b[37m\u001b[0m \u001b[1m2s\u001b[0m 3ms/step - accuracy: 0.9132 - loss: 0.2380 - val_accuracy: 0.8857 - val_loss: 0.3240\n",
            "Epoch 20/20\n",
            "\u001b[1m469/469\u001b[0m \u001b[32m━━━━━━━━━━━━━━━━━━━━\u001b[0m\u001b[37m\u001b[0m \u001b[1m1s\u001b[0m 2ms/step - accuracy: 0.9141 - loss: 0.2383 - val_accuracy: 0.8854 - val_loss: 0.3229\n",
            "\u001b[1m313/313\u001b[0m \u001b[32m━━━━━━━━━━━━━━━━━━━━\u001b[0m\u001b[37m\u001b[0m \u001b[1m1s\u001b[0m 1ms/step - accuracy: 0.8872 - loss: 0.3209\n",
            "Neurons Layer 2: 128\n",
            "Activation: sigmoid\n",
            "Training Accuracy: 0.9147\n",
            "Test Accuracy: 0.8854\n"
          ]
        }
      ]
    },
    {
      "cell_type": "markdown",
      "metadata": {
        "id": "DzOmA5PhrEQR"
      },
      "source": [
        "## Convolutional Neural Networks in Keras\n",
        "\n",
        "One interesting strategy is to extend the models and include Convolutional Neural Network (CNN) architectures that usually will improve the predictions. Keras gives a lot of flexibility to define different models combining convolutional layers, pooling layers, dropouts, regularizations, etc. In the following section of code, we can see and example of a CNN architecture applied to our MNIST problem.\n",
        "\n",
        "In this case, we are defining a network with a first 2D convolutional layer with a convolutional kernel of 5x5 and 16 feature map, with stride 1, without padding and an activation of relu. This layer is connected to another layer with 16 features, 3x3 kernel and the outputs are passed through a MaxPool layer with a 2x2 stride. It is easy to see that the construction of the code is almost straightforward and that any structure can easily be defined after sequencing the layers.  \n"
      ]
    },
    {
      "cell_type": "markdown",
      "metadata": {
        "id": "aSLrvZC1roq6"
      },
      "source": [
        "For working with the system, the structure of the data has to be redefined to specifically indicate the number of channels in the input. With that purpose, train and test images are reshaped to have a dimension of (60000,28,28,1) and (10000,28,28,1). The last component indicates that the images are in gray level and that the input has a single channel. If images were in color the last component should be 3.\n",
        "The fitting process (training) and the prediction have to work with the extended versions of the datasets.\n"
      ]
    },
    {
      "cell_type": "code",
      "metadata": {
        "id": "_WfNOHKPr8Ij",
        "colab": {
          "base_uri": "https://localhost:8080/"
        },
        "outputId": "3ff786b9-53c8-4420-84dd-138b77b1eead"
      },
      "source": [
        "train_images_ext = train_images.reshape(train_images.shape[0],28,28,1)\n",
        "test_images_ext = test_images.reshape(test_images.shape[0],28,28,1)\n",
        "\n",
        "#We also normilize the images\n",
        "train_images_ext = train_images_ext / 255.0\n",
        "test_images_ext = test_images_ext / 255.0\n",
        "test_images_ext.shape"
      ],
      "execution_count": 35,
      "outputs": [
        {
          "output_type": "execute_result",
          "data": {
            "text/plain": [
              "(10000, 28, 28, 1)"
            ]
          },
          "metadata": {},
          "execution_count": 35
        }
      ]
    },
    {
      "cell_type": "code",
      "metadata": {
        "id": "eGGX_eDkr-Z0",
        "colab": {
          "base_uri": "https://localhost:8080/"
        },
        "outputId": "ddc95684-dc62-4fb1-b64c-aad911eba455"
      },
      "source": [
        "# Defining a model with 2D convolutional neural networks\n",
        "\n",
        "model = models.Sequential()\n",
        "model.add(layers.Conv2D(32,(3,3),\n",
        "                              strides=(1,1),padding='valid',\n",
        "                              data_format='channels_last', activation = 'relu'))\n",
        "model.add(layers.Conv2D(64,(3,3),\n",
        "                              strides=(1,1),padding='valid',\n",
        "                              data_format='channels_last', activation = 'relu'))\n",
        "model.add(layers.MaxPooling2D(pool_size=(2,2)))\n",
        "model.add(layers.Conv2D(64,(3,3),\n",
        "                              strides=(1,1),padding='valid',\n",
        "                              data_format='channels_last', activation = 'relu'))\n",
        "model.add(layers.MaxPooling2D(pool_size=(2,2)))\n",
        "model.add(layers.Conv2D(128,(3,3),\n",
        "                              strides=(1,1),padding='valid',\n",
        "                              data_format='channels_last', activation = 'relu'))\n",
        "model.add(layers.Flatten())\n",
        "model.add(layers.Dense(64,activation='relu'))\n",
        "#model.add(layers.Dropout(0.10))\n",
        "model.add(layers.Dense(10,activation='softmax'))\n",
        "#\n",
        "# Compiling the model\n",
        "\n",
        "model.compile(optimizer='rmsprop',\n",
        "              loss='sparse_categorical_crossentropy',\n",
        "              metrics=['accuracy'])\n",
        "\n",
        "# Training the model\n",
        "train_labels = train_labels.reshape(train_labels.shape[0],1)\n",
        "\n",
        "model.fit(train_images_ext, train_labels, batch_size = 128, epochs=20)\n",
        "\n",
        "# Evaluating the results\n",
        "\n",
        "test_loss, test_acc = model.evaluate(test_images_ext, test_labels)\n",
        "print('Test accuracy:', test_acc)\n"
      ],
      "execution_count": 38,
      "outputs": [
        {
          "output_type": "stream",
          "name": "stdout",
          "text": [
            "Epoch 1/20\n",
            "\u001b[1m469/469\u001b[0m \u001b[32m━━━━━━━━━━━━━━━━━━━━\u001b[0m\u001b[37m\u001b[0m \u001b[1m6s\u001b[0m 8ms/step - accuracy: 0.0976 - loss: 2.3028\n",
            "Epoch 2/20\n",
            "\u001b[1m469/469\u001b[0m \u001b[32m━━━━━━━━━━━━━━━━━━━━\u001b[0m\u001b[37m\u001b[0m \u001b[1m3s\u001b[0m 7ms/step - accuracy: 0.1000 - loss: 2.3028\n",
            "Epoch 3/20\n",
            "\u001b[1m469/469\u001b[0m \u001b[32m━━━━━━━━━━━━━━━━━━━━\u001b[0m\u001b[37m\u001b[0m \u001b[1m5s\u001b[0m 7ms/step - accuracy: 0.0987 - loss: 2.3027\n",
            "Epoch 4/20\n",
            "\u001b[1m469/469\u001b[0m \u001b[32m━━━━━━━━━━━━━━━━━━━━\u001b[0m\u001b[37m\u001b[0m \u001b[1m3s\u001b[0m 6ms/step - accuracy: 0.0973 - loss: 2.3027\n",
            "Epoch 5/20\n",
            "\u001b[1m469/469\u001b[0m \u001b[32m━━━━━━━━━━━━━━━━━━━━\u001b[0m\u001b[37m\u001b[0m \u001b[1m3s\u001b[0m 7ms/step - accuracy: 0.0992 - loss: 2.3027\n",
            "Epoch 6/20\n",
            "\u001b[1m469/469\u001b[0m \u001b[32m━━━━━━━━━━━━━━━━━━━━\u001b[0m\u001b[37m\u001b[0m \u001b[1m5s\u001b[0m 7ms/step - accuracy: 0.0979 - loss: 2.3027\n",
            "Epoch 7/20\n",
            "\u001b[1m469/469\u001b[0m \u001b[32m━━━━━━━━━━━━━━━━━━━━\u001b[0m\u001b[37m\u001b[0m \u001b[1m5s\u001b[0m 7ms/step - accuracy: 0.0977 - loss: 2.3027\n",
            "Epoch 8/20\n",
            "\u001b[1m469/469\u001b[0m \u001b[32m━━━━━━━━━━━━━━━━━━━━\u001b[0m\u001b[37m\u001b[0m \u001b[1m3s\u001b[0m 7ms/step - accuracy: 0.1002 - loss: 2.3026\n",
            "Epoch 9/20\n",
            "\u001b[1m469/469\u001b[0m \u001b[32m━━━━━━━━━━━━━━━━━━━━\u001b[0m\u001b[37m\u001b[0m \u001b[1m3s\u001b[0m 7ms/step - accuracy: 0.0988 - loss: 2.3027\n",
            "Epoch 10/20\n",
            "\u001b[1m469/469\u001b[0m \u001b[32m━━━━━━━━━━━━━━━━━━━━\u001b[0m\u001b[37m\u001b[0m \u001b[1m3s\u001b[0m 6ms/step - accuracy: 0.1000 - loss: 2.3027\n",
            "Epoch 11/20\n",
            "\u001b[1m469/469\u001b[0m \u001b[32m━━━━━━━━━━━━━━━━━━━━\u001b[0m\u001b[37m\u001b[0m \u001b[1m3s\u001b[0m 6ms/step - accuracy: 0.0997 - loss: 2.3027\n",
            "Epoch 12/20\n",
            "\u001b[1m469/469\u001b[0m \u001b[32m━━━━━━━━━━━━━━━━━━━━\u001b[0m\u001b[37m\u001b[0m \u001b[1m5s\u001b[0m 7ms/step - accuracy: 0.1006 - loss: 2.3026\n",
            "Epoch 13/20\n",
            "\u001b[1m469/469\u001b[0m \u001b[32m━━━━━━━━━━━━━━━━━━━━\u001b[0m\u001b[37m\u001b[0m \u001b[1m3s\u001b[0m 6ms/step - accuracy: 0.0998 - loss: 2.3027\n",
            "Epoch 14/20\n",
            "\u001b[1m469/469\u001b[0m \u001b[32m━━━━━━━━━━━━━━━━━━━━\u001b[0m\u001b[37m\u001b[0m \u001b[1m3s\u001b[0m 6ms/step - accuracy: 0.0996 - loss: 2.3026\n",
            "Epoch 15/20\n",
            "\u001b[1m469/469\u001b[0m \u001b[32m━━━━━━━━━━━━━━━━━━━━\u001b[0m\u001b[37m\u001b[0m \u001b[1m6s\u001b[0m 7ms/step - accuracy: 0.0959 - loss: 2.3027\n",
            "Epoch 16/20\n",
            "\u001b[1m469/469\u001b[0m \u001b[32m━━━━━━━━━━━━━━━━━━━━\u001b[0m\u001b[37m\u001b[0m \u001b[1m3s\u001b[0m 6ms/step - accuracy: 0.0996 - loss: 2.3027\n",
            "Epoch 17/20\n",
            "\u001b[1m469/469\u001b[0m \u001b[32m━━━━━━━━━━━━━━━━━━━━\u001b[0m\u001b[37m\u001b[0m \u001b[1m3s\u001b[0m 7ms/step - accuracy: 0.0976 - loss: 2.3026\n",
            "Epoch 18/20\n",
            "\u001b[1m469/469\u001b[0m \u001b[32m━━━━━━━━━━━━━━━━━━━━\u001b[0m\u001b[37m\u001b[0m \u001b[1m3s\u001b[0m 6ms/step - accuracy: 0.1002 - loss: 2.3026\n",
            "Epoch 19/20\n",
            "\u001b[1m469/469\u001b[0m \u001b[32m━━━━━━━━━━━━━━━━━━━━\u001b[0m\u001b[37m\u001b[0m \u001b[1m5s\u001b[0m 7ms/step - accuracy: 0.0981 - loss: 2.3027\n",
            "Epoch 20/20\n",
            "\u001b[1m469/469\u001b[0m \u001b[32m━━━━━━━━━━━━━━━━━━━━\u001b[0m\u001b[37m\u001b[0m \u001b[1m3s\u001b[0m 6ms/step - accuracy: 0.1034 - loss: 2.3026\n",
            "\u001b[1m313/313\u001b[0m \u001b[32m━━━━━━━━━━━━━━━━━━━━\u001b[0m\u001b[37m\u001b[0m \u001b[1m1s\u001b[0m 3ms/step - accuracy: 0.0969 - loss: 2.3026\n",
            "Test accuracy: 0.10000000149011612\n"
          ]
        }
      ]
    },
    {
      "cell_type": "markdown",
      "metadata": {
        "id": "L0qpo0GD2Aro"
      },
      "source": [
        "**Question 6**\n",
        "\n",
        "- What is the final accuracy that you have obtained with the training set?\n",
        "\n",
        "Answer: accuracy: 0.0969\n",
        "\n",
        "\n",
        "- What is the final accuracy that you have obtained with the testing set?\n",
        "\n",
        "Answer: Test accuracy: 0.1000\n",
        "\n",
        "\n"
      ]
    },
    {
      "cell_type": "code",
      "source": [],
      "metadata": {
        "id": "vKKuYKOqnhZ-"
      },
      "execution_count": null,
      "outputs": []
    }
  ]
}